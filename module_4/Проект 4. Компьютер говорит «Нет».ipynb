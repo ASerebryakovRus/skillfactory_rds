{
 "cells": [
  {
   "cell_type": "markdown",
   "metadata": {},
   "source": [
    "![Компьютер говорит \"Нет\"](https://media1.tenor.com/images/2ff04b32395b3958d9c2fb6ea3f7b957/tenor.gif?itemid=12232216)\n",
    "## Проект 4. Компьютер говорит «Нет»"
   ]
  },
  {
   "cell_type": "markdown",
   "metadata": {},
   "source": [
    "**Цель проекта**\n",
    "\n",
    "Создать модель банковского скоринга, которая позволит спрогнозировать вероятность невозврата кредита.\n",
    "\n",
    "Причём модель должна успешно справляться как с ошибкой первого рода (отказ в кредите хорошему заёмщику), так и второго (выдача кредита неблагонадёжному заёмщику) рода.\n",
    "\n",
    "Будем предсказывать кредитный скоринг в интервале от 0 до 1, абстрагируясь от порогового значения, при котором банк будет выдавать / отказывать в выдаче кредита (каждый банк может установить этот порог по-своему)."
   ]
  },
  {
   "cell_type": "markdown",
   "metadata": {},
   "source": [
    "#### Признаки датасета\n",
    "* client_id - идентификатор клиента\n",
    "* education - уровень образования\n",
    "* sex - пол заемщика\n",
    "* age - возраст заемщика\n",
    "* car - флаг наличия автомобиля\n",
    "* car_type - флаг автомобиля иномарки\n",
    "* decline_app_cnt - количество отказанных прошлых заявок\n",
    "* good_work - флаг наличия “хорошей” работы\n",
    "* bki_request_cnt - количество запросов в БКИ\n",
    "* home_address - категоризатор домашнего адреса\n",
    "* work_address - категоризатор рабочего адреса\n",
    "* income - доход заемщика\n",
    "* foreign_passport - наличие загранпаспорта\n",
    "* sna - связь заемщика с клиентами банка\n",
    "* first_time - давность наличия информации о заемщике\n",
    "* score_bki - скоринговый балл по данным из БКИ\n",
    "* region_rating - рейтинг региона\n",
    "* app_date - дата подачи заявки\n",
    "* <span style=\"color:red\">default</span> - флаг дефолта по кредиту\n",
    "\n",
    "**Целевая переменная**: default"
   ]
  },
  {
   "cell_type": "markdown",
   "metadata": {},
   "source": [
    "---"
   ]
  },
  {
   "cell_type": "markdown",
   "metadata": {},
   "source": [
    "### 1. Загрузка библиотек и файлов данных"
   ]
  },
  {
   "cell_type": "code",
   "execution_count": 1,
   "metadata": {},
   "outputs": [],
   "source": [
    "import pandas as pd\n",
    "import numpy as np\n",
    "import os\n",
    "\n",
    "from math import ceil\n",
    "\n",
    "import matplotlib.pyplot as plt\n",
    "import seaborn as sns\n",
    "\n",
    "from sklearn.feature_selection import f_classif, mutual_info_classif\n",
    "from sklearn.preprocessing import LabelEncoder, OneHotEncoder, StandardScaler\n",
    "\n",
    "from sklearn.model_selection import train_test_split, GridSearchCV\n",
    "from sklearn.linear_model import LogisticRegression\n",
    "\n",
    "from sklearn.metrics import confusion_matrix, classification_report\n",
    "from sklearn.metrics import auc, roc_auc_score, roc_curve\n",
    "\n",
    "from sklearn.metrics import accuracy_score, precision_score, recall_score, f1_score\n",
    "\n",
    "\n",
    "pd.set_option('display.max_rows', 50) # показывать больше строк\n",
    "pd.set_option('display.max_columns', 100) # показывать больше колонок"
   ]
  },
  {
   "cell_type": "code",
   "execution_count": 2,
   "metadata": {},
   "outputs": [],
   "source": [
    "RANDOM_SEED = 42\n",
    "\n",
    "!pip freeze > requirements.txt"
   ]
  },
  {
   "cell_type": "code",
   "execution_count": 3,
   "metadata": {},
   "outputs": [],
   "source": [
    "PATH_TO_FILE = './kaggle/input/'\n",
    "\n",
    "train = pd.read_csv(PATH_TO_FILE + 'train.csv')\n",
    "\n",
    "test = pd.read_csv(PATH_TO_FILE + 'test.csv')"
   ]
  },
  {
   "cell_type": "markdown",
   "metadata": {},
   "source": [
    "---"
   ]
  },
  {
   "cell_type": "markdown",
   "metadata": {},
   "source": [
    "### 2. Первичный анализ данных"
   ]
  },
  {
   "cell_type": "code",
   "execution_count": 4,
   "metadata": {},
   "outputs": [],
   "source": [
    "# В каждом датасете инициализируем признак типа датасета:\n",
    "#   1 = тренировочные данные\n",
    "#   0 = проверочные данные\n",
    "\n",
    "train['Training'] = 1\n",
    "\n",
    "test['Training'] = 0"
   ]
  },
  {
   "cell_type": "code",
   "execution_count": 5,
   "metadata": {},
   "outputs": [],
   "source": [
    "# Объединим датасет в один общий\n",
    "\n",
    "df = train.append(test, sort=False).reset_index(drop=True) "
   ]
  },
  {
   "cell_type": "code",
   "execution_count": 6,
   "metadata": {},
   "outputs": [
    {
     "name": "stdout",
     "output_type": "stream",
     "text": [
      "<class 'pandas.core.frame.DataFrame'>\n",
      "RangeIndex: 110148 entries, 0 to 110147\n",
      "Data columns (total 20 columns):\n",
      " #   Column            Non-Null Count   Dtype  \n",
      "---  ------            --------------   -----  \n",
      " 0   client_id         110148 non-null  int64  \n",
      " 1   app_date          110148 non-null  object \n",
      " 2   education         109670 non-null  object \n",
      " 3   sex               110148 non-null  object \n",
      " 4   age               110148 non-null  int64  \n",
      " 5   car               110148 non-null  object \n",
      " 6   car_type          110148 non-null  object \n",
      " 7   decline_app_cnt   110148 non-null  int64  \n",
      " 8   good_work         110148 non-null  int64  \n",
      " 9   score_bki         110148 non-null  float64\n",
      " 10  bki_request_cnt   110148 non-null  int64  \n",
      " 11  region_rating     110148 non-null  int64  \n",
      " 12  home_address      110148 non-null  int64  \n",
      " 13  work_address      110148 non-null  int64  \n",
      " 14  income            110148 non-null  int64  \n",
      " 15  sna               110148 non-null  int64  \n",
      " 16  first_time        110148 non-null  int64  \n",
      " 17  foreign_passport  110148 non-null  object \n",
      " 18  default           73799 non-null   float64\n",
      " 19  Training          110148 non-null  int64  \n",
      "dtypes: float64(2), int64(12), object(6)\n",
      "memory usage: 16.8+ MB\n"
     ]
    }
   ],
   "source": [
    "# Анализируем признаки, пропуски и типы данных\n",
    "\n",
    "df.info()"
   ]
  },
  {
   "cell_type": "code",
   "execution_count": 7,
   "metadata": {},
   "outputs": [
    {
     "data": {
      "text/plain": [
       "'Кол-во тренировочных записей: 73799;  Кол-во проверочных записей: 36349'"
      ]
     },
     "execution_count": 7,
     "metadata": {},
     "output_type": "execute_result"
    }
   ],
   "source": [
    "f\"Кол-во тренировочных записей: {len(df[df['Training'] == 1])};\\\n",
    "  Кол-во проверочных записей: {len(df[df['Training'] == 0])}\""
   ]
  },
  {
   "cell_type": "code",
   "execution_count": 8,
   "metadata": {},
   "outputs": [
    {
     "data": {
      "text/html": [
       "<div>\n",
       "<style scoped>\n",
       "    .dataframe tbody tr th:only-of-type {\n",
       "        vertical-align: middle;\n",
       "    }\n",
       "\n",
       "    .dataframe tbody tr th {\n",
       "        vertical-align: top;\n",
       "    }\n",
       "\n",
       "    .dataframe thead th {\n",
       "        text-align: right;\n",
       "    }\n",
       "</style>\n",
       "<table border=\"1\" class=\"dataframe\">\n",
       "  <thead>\n",
       "    <tr style=\"text-align: right;\">\n",
       "      <th></th>\n",
       "      <th>client_id</th>\n",
       "      <th>app_date</th>\n",
       "      <th>education</th>\n",
       "      <th>sex</th>\n",
       "      <th>age</th>\n",
       "      <th>car</th>\n",
       "      <th>car_type</th>\n",
       "      <th>decline_app_cnt</th>\n",
       "      <th>good_work</th>\n",
       "      <th>score_bki</th>\n",
       "      <th>bki_request_cnt</th>\n",
       "      <th>region_rating</th>\n",
       "      <th>home_address</th>\n",
       "      <th>work_address</th>\n",
       "      <th>income</th>\n",
       "      <th>sna</th>\n",
       "      <th>first_time</th>\n",
       "      <th>foreign_passport</th>\n",
       "      <th>default</th>\n",
       "      <th>Training</th>\n",
       "    </tr>\n",
       "  </thead>\n",
       "  <tbody>\n",
       "    <tr>\n",
       "      <th>39165</th>\n",
       "      <td>57159</td>\n",
       "      <td>05MAR2014</td>\n",
       "      <td>SCH</td>\n",
       "      <td>F</td>\n",
       "      <td>32</td>\n",
       "      <td>N</td>\n",
       "      <td>N</td>\n",
       "      <td>1</td>\n",
       "      <td>0</td>\n",
       "      <td>-1.590340</td>\n",
       "      <td>2</td>\n",
       "      <td>50</td>\n",
       "      <td>2</td>\n",
       "      <td>3</td>\n",
       "      <td>20000</td>\n",
       "      <td>1</td>\n",
       "      <td>1</td>\n",
       "      <td>N</td>\n",
       "      <td>0.0</td>\n",
       "      <td>1</td>\n",
       "    </tr>\n",
       "    <tr>\n",
       "      <th>34516</th>\n",
       "      <td>44338</td>\n",
       "      <td>20FEB2014</td>\n",
       "      <td>UGR</td>\n",
       "      <td>F</td>\n",
       "      <td>55</td>\n",
       "      <td>N</td>\n",
       "      <td>N</td>\n",
       "      <td>0</td>\n",
       "      <td>0</td>\n",
       "      <td>-2.467284</td>\n",
       "      <td>2</td>\n",
       "      <td>40</td>\n",
       "      <td>2</td>\n",
       "      <td>3</td>\n",
       "      <td>13200</td>\n",
       "      <td>1</td>\n",
       "      <td>3</td>\n",
       "      <td>N</td>\n",
       "      <td>0.0</td>\n",
       "      <td>1</td>\n",
       "    </tr>\n",
       "    <tr>\n",
       "      <th>9619</th>\n",
       "      <td>85466</td>\n",
       "      <td>02APR2014</td>\n",
       "      <td>SCH</td>\n",
       "      <td>F</td>\n",
       "      <td>41</td>\n",
       "      <td>N</td>\n",
       "      <td>N</td>\n",
       "      <td>0</td>\n",
       "      <td>0</td>\n",
       "      <td>-1.276923</td>\n",
       "      <td>2</td>\n",
       "      <td>40</td>\n",
       "      <td>2</td>\n",
       "      <td>3</td>\n",
       "      <td>15000</td>\n",
       "      <td>1</td>\n",
       "      <td>4</td>\n",
       "      <td>Y</td>\n",
       "      <td>0.0</td>\n",
       "      <td>1</td>\n",
       "    </tr>\n",
       "    <tr>\n",
       "      <th>82174</th>\n",
       "      <td>98814</td>\n",
       "      <td>15APR2014</td>\n",
       "      <td>SCH</td>\n",
       "      <td>F</td>\n",
       "      <td>51</td>\n",
       "      <td>N</td>\n",
       "      <td>N</td>\n",
       "      <td>0</td>\n",
       "      <td>0</td>\n",
       "      <td>-2.148140</td>\n",
       "      <td>1</td>\n",
       "      <td>60</td>\n",
       "      <td>1</td>\n",
       "      <td>2</td>\n",
       "      <td>15000</td>\n",
       "      <td>1</td>\n",
       "      <td>3</td>\n",
       "      <td>N</td>\n",
       "      <td>NaN</td>\n",
       "      <td>0</td>\n",
       "    </tr>\n",
       "    <tr>\n",
       "      <th>102442</th>\n",
       "      <td>60550</td>\n",
       "      <td>10MAR2014</td>\n",
       "      <td>GRD</td>\n",
       "      <td>F</td>\n",
       "      <td>58</td>\n",
       "      <td>N</td>\n",
       "      <td>N</td>\n",
       "      <td>0</td>\n",
       "      <td>1</td>\n",
       "      <td>-1.347651</td>\n",
       "      <td>6</td>\n",
       "      <td>60</td>\n",
       "      <td>1</td>\n",
       "      <td>2</td>\n",
       "      <td>50000</td>\n",
       "      <td>2</td>\n",
       "      <td>4</td>\n",
       "      <td>Y</td>\n",
       "      <td>NaN</td>\n",
       "      <td>0</td>\n",
       "    </tr>\n",
       "  </tbody>\n",
       "</table>\n",
       "</div>"
      ],
      "text/plain": [
       "        client_id   app_date education sex  age car car_type  decline_app_cnt  \\\n",
       "39165       57159  05MAR2014       SCH   F   32   N        N                1   \n",
       "34516       44338  20FEB2014       UGR   F   55   N        N                0   \n",
       "9619        85466  02APR2014       SCH   F   41   N        N                0   \n",
       "82174       98814  15APR2014       SCH   F   51   N        N                0   \n",
       "102442      60550  10MAR2014       GRD   F   58   N        N                0   \n",
       "\n",
       "        good_work  score_bki  bki_request_cnt  region_rating  home_address  \\\n",
       "39165           0  -1.590340                2             50             2   \n",
       "34516           0  -2.467284                2             40             2   \n",
       "9619            0  -1.276923                2             40             2   \n",
       "82174           0  -2.148140                1             60             1   \n",
       "102442          1  -1.347651                6             60             1   \n",
       "\n",
       "        work_address  income  sna  first_time foreign_passport  default  \\\n",
       "39165              3   20000    1           1                N      0.0   \n",
       "34516              3   13200    1           3                N      0.0   \n",
       "9619               3   15000    1           4                Y      0.0   \n",
       "82174              2   15000    1           3                N      NaN   \n",
       "102442             2   50000    2           4                Y      NaN   \n",
       "\n",
       "        Training  \n",
       "39165          1  \n",
       "34516          1  \n",
       "9619           1  \n",
       "82174          0  \n",
       "102442         0  "
      ]
     },
     "execution_count": 8,
     "metadata": {},
     "output_type": "execute_result"
    }
   ],
   "source": [
    "# Смотрим на выборку записей\n",
    "\n",
    "df.sample(5)"
   ]
  },
  {
   "cell_type": "code",
   "execution_count": 9,
   "metadata": {},
   "outputs": [
    {
     "data": {
      "text/html": [
       "<div>\n",
       "<style scoped>\n",
       "    .dataframe tbody tr th:only-of-type {\n",
       "        vertical-align: middle;\n",
       "    }\n",
       "\n",
       "    .dataframe tbody tr th {\n",
       "        vertical-align: top;\n",
       "    }\n",
       "\n",
       "    .dataframe thead th {\n",
       "        text-align: right;\n",
       "    }\n",
       "</style>\n",
       "<table border=\"1\" class=\"dataframe\">\n",
       "  <thead>\n",
       "    <tr style=\"text-align: right;\">\n",
       "      <th></th>\n",
       "      <th>client_id</th>\n",
       "      <th>age</th>\n",
       "      <th>decline_app_cnt</th>\n",
       "      <th>good_work</th>\n",
       "      <th>score_bki</th>\n",
       "      <th>bki_request_cnt</th>\n",
       "      <th>region_rating</th>\n",
       "      <th>home_address</th>\n",
       "      <th>work_address</th>\n",
       "      <th>income</th>\n",
       "      <th>sna</th>\n",
       "      <th>first_time</th>\n",
       "      <th>default</th>\n",
       "      <th>Training</th>\n",
       "    </tr>\n",
       "  </thead>\n",
       "  <tbody>\n",
       "    <tr>\n",
       "      <th>count</th>\n",
       "      <td>110148.00</td>\n",
       "      <td>110148.00</td>\n",
       "      <td>110148.00</td>\n",
       "      <td>110148.00</td>\n",
       "      <td>110148.00</td>\n",
       "      <td>110148.00</td>\n",
       "      <td>110148.00</td>\n",
       "      <td>110148.00</td>\n",
       "      <td>110148.00</td>\n",
       "      <td>110148.00</td>\n",
       "      <td>110148.00</td>\n",
       "      <td>110148.00</td>\n",
       "      <td>73799.00</td>\n",
       "      <td>110148.00</td>\n",
       "    </tr>\n",
       "    <tr>\n",
       "      <th>mean</th>\n",
       "      <td>55074.50</td>\n",
       "      <td>39.25</td>\n",
       "      <td>0.27</td>\n",
       "      <td>0.17</td>\n",
       "      <td>-1.90</td>\n",
       "      <td>2.01</td>\n",
       "      <td>56.75</td>\n",
       "      <td>1.57</td>\n",
       "      <td>2.50</td>\n",
       "      <td>41012.65</td>\n",
       "      <td>1.73</td>\n",
       "      <td>2.77</td>\n",
       "      <td>0.13</td>\n",
       "      <td>0.67</td>\n",
       "    </tr>\n",
       "    <tr>\n",
       "      <th>std</th>\n",
       "      <td>31797.13</td>\n",
       "      <td>11.52</td>\n",
       "      <td>0.80</td>\n",
       "      <td>0.37</td>\n",
       "      <td>0.50</td>\n",
       "      <td>2.27</td>\n",
       "      <td>13.07</td>\n",
       "      <td>0.53</td>\n",
       "      <td>0.69</td>\n",
       "      <td>45399.74</td>\n",
       "      <td>1.12</td>\n",
       "      <td>1.01</td>\n",
       "      <td>0.33</td>\n",
       "      <td>0.47</td>\n",
       "    </tr>\n",
       "    <tr>\n",
       "      <th>min</th>\n",
       "      <td>1.00</td>\n",
       "      <td>21.00</td>\n",
       "      <td>0.00</td>\n",
       "      <td>0.00</td>\n",
       "      <td>-3.62</td>\n",
       "      <td>0.00</td>\n",
       "      <td>20.00</td>\n",
       "      <td>1.00</td>\n",
       "      <td>1.00</td>\n",
       "      <td>1000.00</td>\n",
       "      <td>1.00</td>\n",
       "      <td>1.00</td>\n",
       "      <td>0.00</td>\n",
       "      <td>0.00</td>\n",
       "    </tr>\n",
       "    <tr>\n",
       "      <th>25%</th>\n",
       "      <td>27537.75</td>\n",
       "      <td>30.00</td>\n",
       "      <td>0.00</td>\n",
       "      <td>0.00</td>\n",
       "      <td>-2.26</td>\n",
       "      <td>0.00</td>\n",
       "      <td>50.00</td>\n",
       "      <td>1.00</td>\n",
       "      <td>2.00</td>\n",
       "      <td>20000.00</td>\n",
       "      <td>1.00</td>\n",
       "      <td>2.00</td>\n",
       "      <td>0.00</td>\n",
       "      <td>0.00</td>\n",
       "    </tr>\n",
       "    <tr>\n",
       "      <th>50%</th>\n",
       "      <td>55074.50</td>\n",
       "      <td>37.00</td>\n",
       "      <td>0.00</td>\n",
       "      <td>0.00</td>\n",
       "      <td>-1.92</td>\n",
       "      <td>1.00</td>\n",
       "      <td>50.00</td>\n",
       "      <td>2.00</td>\n",
       "      <td>3.00</td>\n",
       "      <td>30000.00</td>\n",
       "      <td>1.00</td>\n",
       "      <td>3.00</td>\n",
       "      <td>0.00</td>\n",
       "      <td>1.00</td>\n",
       "    </tr>\n",
       "    <tr>\n",
       "      <th>75%</th>\n",
       "      <td>82611.25</td>\n",
       "      <td>48.00</td>\n",
       "      <td>0.00</td>\n",
       "      <td>0.00</td>\n",
       "      <td>-1.57</td>\n",
       "      <td>3.00</td>\n",
       "      <td>60.00</td>\n",
       "      <td>2.00</td>\n",
       "      <td>3.00</td>\n",
       "      <td>48000.00</td>\n",
       "      <td>2.00</td>\n",
       "      <td>4.00</td>\n",
       "      <td>0.00</td>\n",
       "      <td>1.00</td>\n",
       "    </tr>\n",
       "    <tr>\n",
       "      <th>max</th>\n",
       "      <td>110148.00</td>\n",
       "      <td>72.00</td>\n",
       "      <td>33.00</td>\n",
       "      <td>1.00</td>\n",
       "      <td>0.20</td>\n",
       "      <td>53.00</td>\n",
       "      <td>80.00</td>\n",
       "      <td>3.00</td>\n",
       "      <td>3.00</td>\n",
       "      <td>1000000.00</td>\n",
       "      <td>4.00</td>\n",
       "      <td>4.00</td>\n",
       "      <td>1.00</td>\n",
       "      <td>1.00</td>\n",
       "    </tr>\n",
       "  </tbody>\n",
       "</table>\n",
       "</div>"
      ],
      "text/plain": [
       "       client_id        age  decline_app_cnt  good_work  score_bki  \\\n",
       "count  110148.00  110148.00        110148.00  110148.00  110148.00   \n",
       "mean    55074.50      39.25             0.27       0.17      -1.90   \n",
       "std     31797.13      11.52             0.80       0.37       0.50   \n",
       "min         1.00      21.00             0.00       0.00      -3.62   \n",
       "25%     27537.75      30.00             0.00       0.00      -2.26   \n",
       "50%     55074.50      37.00             0.00       0.00      -1.92   \n",
       "75%     82611.25      48.00             0.00       0.00      -1.57   \n",
       "max    110148.00      72.00            33.00       1.00       0.20   \n",
       "\n",
       "       bki_request_cnt  region_rating  home_address  work_address      income  \\\n",
       "count        110148.00      110148.00     110148.00     110148.00   110148.00   \n",
       "mean              2.01          56.75          1.57          2.50    41012.65   \n",
       "std               2.27          13.07          0.53          0.69    45399.74   \n",
       "min               0.00          20.00          1.00          1.00     1000.00   \n",
       "25%               0.00          50.00          1.00          2.00    20000.00   \n",
       "50%               1.00          50.00          2.00          3.00    30000.00   \n",
       "75%               3.00          60.00          2.00          3.00    48000.00   \n",
       "max              53.00          80.00          3.00          3.00  1000000.00   \n",
       "\n",
       "             sna  first_time   default   Training  \n",
       "count  110148.00   110148.00  73799.00  110148.00  \n",
       "mean        1.73        2.77      0.13       0.67  \n",
       "std         1.12        1.01      0.33       0.47  \n",
       "min         1.00        1.00      0.00       0.00  \n",
       "25%         1.00        2.00      0.00       0.00  \n",
       "50%         1.00        3.00      0.00       1.00  \n",
       "75%         2.00        4.00      0.00       1.00  \n",
       "max         4.00        4.00      1.00       1.00  "
      ]
     },
     "execution_count": 9,
     "metadata": {},
     "output_type": "execute_result"
    }
   ],
   "source": [
    "# Для численных признаков смотрим описательные статистики\n",
    "\n",
    "df.describe().round(2)"
   ]
  },
  {
   "cell_type": "code",
   "execution_count": 10,
   "metadata": {},
   "outputs": [
    {
     "data": {
      "text/plain": [
       "client_id             0\n",
       "app_date              0\n",
       "education           307\n",
       "sex                   0\n",
       "age                   0\n",
       "car                   0\n",
       "car_type              0\n",
       "decline_app_cnt       0\n",
       "good_work             0\n",
       "score_bki             0\n",
       "bki_request_cnt       0\n",
       "region_rating         0\n",
       "home_address          0\n",
       "work_address          0\n",
       "income                0\n",
       "sna                   0\n",
       "first_time            0\n",
       "foreign_passport      0\n",
       "default               0\n",
       "Training              0\n",
       "dtype: int64"
      ]
     },
     "execution_count": 10,
     "metadata": {},
     "output_type": "execute_result"
    }
   ],
   "source": [
    "# Пропуски по столбцам\n",
    "\n",
    "df[df['Training'] == 1].isnull().sum()"
   ]
  },
  {
   "cell_type": "code",
   "execution_count": 11,
   "metadata": {},
   "outputs": [
    {
     "data": {
      "text/plain": [
       "0"
      ]
     },
     "execution_count": 11,
     "metadata": {},
     "output_type": "execute_result"
    }
   ],
   "source": [
    "# Повторяющиеся записи (целиком)\n",
    "\n",
    "df.duplicated().sum()"
   ]
  },
  {
   "cell_type": "code",
   "execution_count": 12,
   "metadata": {},
   "outputs": [
    {
     "data": {
      "text/plain": [
       "0"
      ]
     },
     "execution_count": 12,
     "metadata": {},
     "output_type": "execute_result"
    }
   ],
   "source": [
    "# Повторяющиеся записи клиентов (с другими данными)\n",
    "\n",
    "df['client_id'].duplicated().sum()"
   ]
  },
  {
   "cell_type": "markdown",
   "metadata": {},
   "source": [
    "**Вывод**\n",
    "\n",
    "* 19 признаков (+1 дополненный для отличия типа датасета):\n",
    "    * 13 - числовые\n",
    "    * 6 - строковые\n",
    "* Датасет разделен на:\n",
    "    * 73799 - тренировочных строк\n",
    "    * 36349 - проверочных\n",
    "* Пропуски есть только в столбце 'education'\n",
    "* Нет повторяющихся значений\n",
    "* Каждая строка представляет собой уникальную и суммарную запись клиента (т.е. отсутствует несколько записей клиента для подсчёта метрик каждого клиента, скажем, во времени)\n",
    "* Целевая переменная, которую будем предсказывать - 'default'"
   ]
  },
  {
   "cell_type": "markdown",
   "metadata": {},
   "source": [
    "---"
   ]
  },
  {
   "cell_type": "markdown",
   "metadata": {},
   "source": [
    "### 3. Анализ и предобработка признаков"
   ]
  },
  {
   "cell_type": "markdown",
   "metadata": {},
   "source": [
    "#### client_id"
   ]
  },
  {
   "cell_type": "code",
   "execution_count": 13,
   "metadata": {},
   "outputs": [
    {
     "data": {
      "text/plain": [
       "count    110148.00\n",
       "mean      55074.50\n",
       "std       31797.13\n",
       "min           1.00\n",
       "25%       27537.75\n",
       "50%       55074.50\n",
       "75%       82611.25\n",
       "max      110148.00\n",
       "Name: client_id, dtype: float64"
      ]
     },
     "execution_count": 13,
     "metadata": {},
     "output_type": "execute_result"
    }
   ],
   "source": [
    "# Смотрим описательные статистики признака client_id\n",
    "\n",
    "df['client_id'].describe().round(2)"
   ]
  },
  {
   "cell_type": "code",
   "execution_count": 14,
   "metadata": {},
   "outputs": [
    {
     "data": {
      "text/plain": [
       "'Количество уникальных значение признака client_id: 110148'"
      ]
     },
     "execution_count": 14,
     "metadata": {},
     "output_type": "execute_result"
    }
   ],
   "source": [
    "f\"Количество уникальных значение признака client_id: {df['client_id'].nunique()}\""
   ]
  },
  {
   "cell_type": "markdown",
   "metadata": {},
   "source": [
    "**Вывод**\n",
    "\n",
    "client_id, как и предполагает название, является уникальным идентификатором клиента. Можно использовать в качестве индекса, но для анализа бесполезен."
   ]
  },
  {
   "cell_type": "markdown",
   "metadata": {},
   "source": [
    "#### app_date"
   ]
  },
  {
   "cell_type": "code",
   "execution_count": 15,
   "metadata": {},
   "outputs": [
    {
     "data": {
      "text/plain": [
       "18MAR2014    1491\n",
       "19MAR2014    1363\n",
       "17MAR2014    1350\n",
       "31MAR2014    1317\n",
       "07APR2014    1296\n",
       "             ... \n",
       "20APR2014     359\n",
       "07JAN2014     349\n",
       "03JAN2014     313\n",
       "02JAN2014     204\n",
       "01JAN2014      56\n",
       "Name: app_date, Length: 120, dtype: int64"
      ]
     },
     "execution_count": 15,
     "metadata": {},
     "output_type": "execute_result"
    }
   ],
   "source": [
    "# Частотный анализ переменной app_date\n",
    "\n",
    "df['app_date'].value_counts()"
   ]
  },
  {
   "cell_type": "code",
   "execution_count": 16,
   "metadata": {},
   "outputs": [],
   "source": [
    "# Поменяем формат на datetime и рассчитаем признак с кол-вом дней с начала отсчёта (app_date_inc)\n",
    "\n",
    "df['app_date'] = pd.to_datetime(df['app_date'], format='%d%b%Y')\n",
    "\n",
    "df['app_date_days'] = (df['app_date'] - df['app_date'].min()).dt.days"
   ]
  },
  {
   "cell_type": "code",
   "execution_count": 17,
   "metadata": {},
   "outputs": [
    {
     "data": {
      "text/plain": [
       "<matplotlib.axes._subplots.AxesSubplot at 0x7f5fd2aee490>"
      ]
     },
     "execution_count": 17,
     "metadata": {},
     "output_type": "execute_result"
    },
    {
     "data": {
      "image/png": "[encoded data removed]",
      "text/plain": [
       "<Figure size 432x288 with 1 Axes>"
      ]
     },
     "metadata": {
      "needs_background": "light"
     },
     "output_type": "display_data"
    }
   ],
   "source": [
    "# Чертим график распределения записей к кол-ву дней с момента отсчёта\n",
    "\n",
    "df['app_date_days'].plot(kind='hist', title='Кол-во дней с начала отсчёта')"
   ]
  },
  {
   "cell_type": "code",
   "execution_count": 18,
   "metadata": {},
   "outputs": [],
   "source": [
    "# Добавим параметр месяца подачи заявки\n",
    "\n",
    "df['app_date_month'] = df['app_date'].dt.month"
   ]
  },
  {
   "cell_type": "code",
   "execution_count": 19,
   "metadata": {},
   "outputs": [
    {
     "data": {
      "text/plain": [
       "<matplotlib.axes._subplots.AxesSubplot at 0x7f5fd1f64be0>"
      ]
     },
     "execution_count": 19,
     "metadata": {},
     "output_type": "execute_result"
    },
    {
     "data": {
      "image/png": "[encoded data removed]",
      "text/plain": [
       "<Figure size 432x288 with 1 Axes>"
      ]
     },
     "metadata": {
      "needs_background": "light"
     },
     "output_type": "display_data"
    }
   ],
   "source": [
    "# Чертим график распределения месяцев\n",
    "\n",
    "df['app_date_month'].value_counts().plot(kind='bar', title='Кол-во записей по месяцам')"
   ]
  },
  {
   "cell_type": "markdown",
   "metadata": {},
   "source": [
    "**Вывод**\n",
    "\n",
    "app_date перевели в формат даты и обогатили датасет доп. признаками - кол-вом дней после начала отсчёта и месяцем подачи заявки.\n",
    "Кол-во заявок по дням с начала отсчёта - нормально распределение, б*о*льшая часть заявок была подана между 20 и 100 днём, что соответствует марту и февралю (1 и 2 место соответственно)."
   ]
  },
  {
   "cell_type": "markdown",
   "metadata": {},
   "source": [
    "#### education"
   ]
  },
  {
   "cell_type": "code",
   "execution_count": 20,
   "metadata": {},
   "outputs": [
    {
     "data": {
      "text/plain": [
       "<matplotlib.axes._subplots.AxesSubplot at 0x7f5fd1e86400>"
      ]
     },
     "execution_count": 20,
     "metadata": {},
     "output_type": "execute_result"
    },
    {
     "data": {
      "image/png": "[encoded data removed]",
      "text/plain": [
       "<Figure size 432x288 with 1 Axes>"
      ]
     },
     "metadata": {
      "needs_background": "light"
     },
     "output_type": "display_data"
    }
   ],
   "source": [
    "# Рисуем график распределения значений признака education\n",
    "\n",
    "df['education'].value_counts().plot.barh()"
   ]
  },
  {
   "cell_type": "code",
   "execution_count": 21,
   "metadata": {},
   "outputs": [
    {
     "data": {
      "text/plain": [
       "\"Кол-во пропусков в признаке 'education': 478\""
      ]
     },
     "execution_count": 21,
     "metadata": {},
     "output_type": "execute_result"
    }
   ],
   "source": [
    "f\"Кол-во пропусков в признаке 'education': {df['education'].isnull().sum()}\""
   ]
  },
  {
   "cell_type": "code",
   "execution_count": 22,
   "metadata": {},
   "outputs": [],
   "source": [
    "# Заполняем пропуски в образовании на основании вероятностей заполненных значений\n",
    "\n",
    "edu_probability = list(pd.Series(df['education'].value_counts(normalize=True).round(2)))\n",
    "edu_values = list(pd.Series(df['education'].value_counts().index))\n",
    "\n",
    "\n",
    "def fill_education():\n",
    "    return np.random.choice(edu_values, p=edu_probability)\n",
    "\n",
    "\n",
    "df['education'].fillna(fill_education(), inplace=True)"
   ]
  },
  {
   "cell_type": "code",
   "execution_count": 23,
   "metadata": {},
   "outputs": [
    {
     "data": {
      "text/plain": [
       "{'SCH': 0, 'GRD': 1, 'UGR': 2, 'PGR': 3, 'ACD': 4}"
      ]
     },
     "metadata": {},
     "output_type": "display_data"
    },
    {
     "data": {
      "text/plain": [
       "0    0.53\n",
       "1    0.32\n",
       "2    0.13\n",
       "3    0.02\n",
       "4    0.00\n",
       "Name: education, dtype: float64"
      ]
     },
     "execution_count": 23,
     "metadata": {},
     "output_type": "execute_result"
    }
   ],
   "source": [
    "# Кодируем категориальное значение параметра education в целочисленные эквиваленты\n",
    "\n",
    "ed_dict = dict(enumerate(pd.Series(df['education'].unique())))\n",
    "ed_dict2 = {v : k for k, v in ed_dict.items()}\n",
    "display(ed_dict2)\n",
    "\n",
    "df['education'] = df['education'].replace(ed_dict2)\n",
    "\n",
    "df['education'].value_counts(normalize=True).round(2)"
   ]
  },
  {
   "cell_type": "markdown",
   "metadata": {},
   "source": [
    "**Вывод**\n",
    "\n",
    "Обнаруженные пропуски заполнены вероятностными значениями + параметр перекодирован в целочисленные\n",
    "значения.\n",
    "\n",
    "Самая частая категория SCH (53%) - оконченное школьное (?)."
   ]
  },
  {
   "cell_type": "markdown",
   "metadata": {},
   "source": [
    "#### sex"
   ]
  },
  {
   "cell_type": "code",
   "execution_count": 24,
   "metadata": {},
   "outputs": [
    {
     "data": {
      "text/plain": [
       "<matplotlib.axes._subplots.AxesSubplot at 0x7f5fd1e1e550>"
      ]
     },
     "execution_count": 24,
     "metadata": {},
     "output_type": "execute_result"
    },
    {
     "data": {
      "image/png": "[encoded data removed]",
      "text/plain": [
       "<Figure size 432x288 with 1 Axes>"
      ]
     },
     "metadata": {
      "needs_background": "light"
     },
     "output_type": "display_data"
    }
   ],
   "source": [
    "# Рисуем график распределения значений признака sex\n",
    "\n",
    "df['sex'].value_counts().plot.bar()"
   ]
  },
  {
   "cell_type": "code",
   "execution_count": 25,
   "metadata": {},
   "outputs": [
    {
     "data": {
      "text/plain": [
       "F    0.56\n",
       "M    0.44\n",
       "Name: sex, dtype: float64"
      ]
     },
     "execution_count": 25,
     "metadata": {},
     "output_type": "execute_result"
    }
   ],
   "source": [
    "# Смотрим удельные значения полов\n",
    "\n",
    "df['sex'].value_counts(normalize=True).round(2)"
   ]
  },
  {
   "cell_type": "code",
   "execution_count": 26,
   "metadata": {},
   "outputs": [],
   "source": [
    "# Перекодируем значения данного признака в целочисленные\n",
    "\n",
    "sex_dict = {'M' : 0\n",
    "           ,'F' : 1}\n",
    "\n",
    "df['sex'] = df['sex'].replace(sex_dict)"
   ]
  },
  {
   "cell_type": "markdown",
   "metadata": {},
   "source": [
    "**Вывод**\n",
    "\n",
    "В датасете больше заявок от женщин (56%).\n",
    "\n",
    "Признак конвертирован в целочисленный."
   ]
  },
  {
   "cell_type": "markdown",
   "metadata": {},
   "source": [
    "#### age"
   ]
  },
  {
   "cell_type": "code",
   "execution_count": 27,
   "metadata": {},
   "outputs": [
    {
     "data": {
      "text/plain": [
       "<matplotlib.axes._subplots.AxesSubplot at 0x7f5fd34cabb0>"
      ]
     },
     "execution_count": 27,
     "metadata": {},
     "output_type": "execute_result"
    },
    {
     "data": {
      "image/png": "[encoded data removed]",
      "text/plain": [
       "<Figure size 432x288 with 1 Axes>"
      ]
     },
     "metadata": {
      "needs_background": "light"
     },
     "output_type": "display_data"
    }
   ],
   "source": [
    "# Чертим график распределения признака age\n",
    "\n",
    "df['age'].plot(kind='hist', title='Распределение по возрасту')"
   ]
  },
  {
   "cell_type": "code",
   "execution_count": 28,
   "metadata": {},
   "outputs": [
    {
     "data": {
      "text/plain": [
       "count    110148.0\n",
       "mean         39.0\n",
       "std          12.0\n",
       "min          21.0\n",
       "25%          30.0\n",
       "50%          37.0\n",
       "75%          48.0\n",
       "max          72.0\n",
       "Name: age, dtype: float64"
      ]
     },
     "execution_count": 28,
     "metadata": {},
     "output_type": "execute_result"
    }
   ],
   "source": [
    "# Смотрим описательные статистики\n",
    "\n",
    "df['age'].describe().round(0)"
   ]
  },
  {
   "cell_type": "markdown",
   "metadata": {},
   "source": [
    "**Вывод**\n",
    "\n",
    "Средний возраст заявителя - 39 лет со стандартным отклонением 12. Подавляющая часть подающих заявки на займ (больше 75% квартиля) - до 50 лет."
   ]
  },
  {
   "cell_type": "markdown",
   "metadata": {},
   "source": [
    "#### car и car_type\n",
    "\n",
    "Связанные переменные означающие наличие автомобиля, и конкретно наличие иномарки."
   ]
  },
  {
   "cell_type": "code",
   "execution_count": 29,
   "metadata": {},
   "outputs": [
    {
     "data": {
      "text/plain": [
       "'Кол-во расхождений в параметрах машин: 0'"
      ]
     },
     "execution_count": 29,
     "metadata": {},
     "output_type": "execute_result"
    }
   ],
   "source": [
    "# Проверим эти параметры на наличие расхождений (иномарка = Y, машина = N)\n",
    "\n",
    "f\"Кол-во расхождений в параметрах машин: {len(df[(df['car'] == 'N') & (df['car_type'] == 'Y')])}\"\n",
    "\n",
    "# Проблемных записей не найдено"
   ]
  },
  {
   "cell_type": "code",
   "execution_count": 30,
   "metadata": {},
   "outputs": [
    {
     "data": {
      "text/plain": [
       "'Процент заявителей с машиной (к общему кол-ву заявителей):     0.19'"
      ]
     },
     "metadata": {},
     "output_type": "display_data"
    },
    {
     "data": {
      "text/plain": [
       "'Процент заявителей с иномаркой (к общему кол-ву заявителей с машиной):     0.59'"
      ]
     },
     "metadata": {},
     "output_type": "display_data"
    }
   ],
   "source": [
    "# Смотрим соотношения заявителей с машинами\n",
    "\n",
    "display(f\"Процент заявителей с машиной (к общему кол-ву заявителей): \\\n",
    "    {round(len(df[df['car_type'] == 'Y']) / len(df), 2)}\")\n",
    "\n",
    "display(f\"Процент заявителей с иномаркой (к общему кол-ву заявителей с машиной): \\\n",
    "    {round(len(df[df['car_type'] == 'Y']) / len(df[df['car'] == 'Y']), 2)}\")"
   ]
  },
  {
   "cell_type": "code",
   "execution_count": 31,
   "metadata": {},
   "outputs": [
    {
     "data": {
      "text/plain": [
       "(array([21008.,     0.,     0.,     0.,     0.,     0.,     0.,     0.,\n",
       "            0., 89140.]),\n",
       " array([0. , 0.1, 0.2, 0.3, 0.4, 0.5, 0.6, 0.7, 0.8, 0.9, 1. ]),\n",
       " <a list of 10 Patch objects>)"
      ]
     },
     "execution_count": 31,
     "metadata": {},
     "output_type": "execute_result"
    },
    {
     "data": {
      "image/png": "[encoded data removed]",
      "text/plain": [
       "<Figure size 864x288 with 2 Axes>"
      ]
     },
     "metadata": {
      "needs_background": "light"
     },
     "output_type": "display_data"
    }
   ],
   "source": [
    "# Выведем графики обеих переменных\n",
    "\n",
    "fig, axes = plt.subplots(1, 2, figsize=(12, 4))\n",
    "\n",
    "axes[0].set_title('Наличие машины')\n",
    "axes[0].hist(df['car'])\n",
    "\n",
    "axes[1].set_title('Наличие иномарки')\n",
    "axes[1].hist(df['car_type'])"
   ]
  },
  {
   "cell_type": "code",
   "execution_count": 32,
   "metadata": {},
   "outputs": [],
   "source": [
    "# Определим словарь кодирования значений Y и N\n",
    "\n",
    "yn_dict = {'Y' : 1\n",
    "           ,'N' : 0}"
   ]
  },
  {
   "cell_type": "code",
   "execution_count": 33,
   "metadata": {},
   "outputs": [],
   "source": [
    "# Кодируем значения обеих переменных на целочисленные\n",
    "\n",
    "df[['car', 'car_type']] = df[['car', 'car_type']].replace(yn_dict)"
   ]
  },
  {
   "cell_type": "markdown",
   "metadata": {},
   "source": [
    "**Вывод**\n",
    "\n",
    "Только у 19% заявителей есть в наличии машина, но у б*о*льшей части из них это иномарка (59%).\n",
    "\n",
    "Расхождений в значениях признаков не обнаружено.\n",
    "\n",
    "Оба признака перекодированы в целочисленные эквиваленты."
   ]
  },
  {
   "cell_type": "markdown",
   "metadata": {},
   "source": [
    "#### decline_app_cnt"
   ]
  },
  {
   "cell_type": "code",
   "execution_count": 34,
   "metadata": {},
   "outputs": [
    {
     "data": {
      "text/plain": [
       "0    0.830\n",
       "1    0.113\n",
       "2    0.033\n",
       "3    0.012\n",
       "4    0.006\n",
       "5    0.002\n",
       "6    0.001\n",
       "7    0.001\n",
       "8    0.000\n",
       "9    0.000\n",
       "Name: decline_app_cnt, dtype: float64"
      ]
     },
     "metadata": {},
     "output_type": "display_data"
    },
    {
     "data": {
      "text/plain": [
       "'Максимальное кол-во отказов: 33'"
      ]
     },
     "metadata": {},
     "output_type": "display_data"
    }
   ],
   "source": [
    "# Посмотрим распределение признака decline_app_cnt для десяти самых частых категорий и максимум\n",
    "\n",
    "display(df['decline_app_cnt'].value_counts(normalize=True)[:10].round(3))\n",
    "\n",
    "display(f\"Максимальное кол-во отказов: {df['decline_app_cnt'].max()}\")"
   ]
  },
  {
   "cell_type": "code",
   "execution_count": 35,
   "metadata": {},
   "outputs": [
    {
     "data": {
      "text/plain": [
       "<matplotlib.axes._subplots.AxesSubplot at 0x7f5fd1c2e6d0>"
      ]
     },
     "execution_count": 35,
     "metadata": {},
     "output_type": "execute_result"
    },
    {
     "data": {
      "image/png": "[encoded data removed]",
      "text/plain": [
       "<Figure size 432x288 with 2 Axes>"
      ]
     },
     "metadata": {
      "needs_background": "light"
     },
     "output_type": "display_data"
    }
   ],
   "source": [
    "# Проверим есть ли корреляция между вероятностью невозврата и предыдущими отказами\n",
    "\n",
    "sns.heatmap(df[['decline_app_cnt', 'default']][df['Training'] == 1].corr(), annot=True, cmap='coolwarm')"
   ]
  },
  {
   "cell_type": "markdown",
   "metadata": {},
   "source": [
    "**Вывод**\n",
    "\n",
    "У 83% заявителей не было до этого прошлых отказов. Из оставшихся 17% б*о*льшая часть получала от 1 до 3 отказов, хотя есть и такие случаи, когда до этого отказывали аж 33 раза.\n",
    "\n",
    "Пародоксально, но кол-во предыдущих отказов слабо связано с риском невозврата, что скорее всего свидетельствует о слабой предсказательной силе моделей, на основании которых заявителям было отказано в прошлом."
   ]
  },
  {
   "cell_type": "markdown",
   "metadata": {},
   "source": [
    "#### good_work"
   ]
  },
  {
   "cell_type": "code",
   "execution_count": 36,
   "metadata": {},
   "outputs": [
    {
     "data": {
      "text/plain": [
       "<matplotlib.axes._subplots.AxesSubplot at 0x7f5fd1b58ca0>"
      ]
     },
     "execution_count": 36,
     "metadata": {},
     "output_type": "execute_result"
    },
    {
     "data": {
      "image/png": "[encoded data removed]",
      "text/plain": [
       "<Figure size 432x288 with 1 Axes>"
      ]
     },
     "metadata": {
      "needs_background": "light"
     },
     "output_type": "display_data"
    }
   ],
   "source": [
    "# Смотрим распределение признака good_work\n",
    "\n",
    "df['good_work'].plot(kind='hist', title='Наличие хорошей работы')"
   ]
  },
  {
   "cell_type": "code",
   "execution_count": 37,
   "metadata": {},
   "outputs": [
    {
     "data": {
      "text/plain": [
       "<matplotlib.axes._subplots.AxesSubplot at 0x7f5fd1abfc40>"
      ]
     },
     "execution_count": 37,
     "metadata": {},
     "output_type": "execute_result"
    },
    {
     "data": {
      "image/png": "[encoded data removed]",
      "text/plain": [
       "<Figure size 432x288 with 2 Axes>"
      ]
     },
     "metadata": {
      "needs_background": "light"
     },
     "output_type": "display_data"
    }
   ],
   "source": [
    "# Посмотрим есть ли корреляция между наличием хорошей работы и высокой зарплаты\n",
    "# или же есть и другие факторы, которые отличают \"хорошую\" работы от \"плохой\"?\n",
    "\n",
    "sns.heatmap(df[['good_work', 'income']][df['Training'] == 1].corr(), annot=True, cmap='coolwarm')"
   ]
  },
  {
   "cell_type": "markdown",
   "metadata": {},
   "source": [
    "**Вывод**\n",
    "\n",
    "Большинство заявителей не соответствуют критериям наличия \"хорошей работы\".\n",
    "\n",
    "Вдвойне интересно, что наличие высокой зарплаты оч. слабо влияет на критерий \"хорошести\" работы."
   ]
  },
  {
   "cell_type": "markdown",
   "metadata": {},
   "source": [
    "#### score_bki"
   ]
  },
  {
   "cell_type": "code",
   "execution_count": 38,
   "metadata": {},
   "outputs": [
    {
     "data": {
      "text/plain": [
       "count    110148.00\n",
       "mean         -1.90\n",
       "std           0.50\n",
       "min          -3.62\n",
       "25%          -2.26\n",
       "50%          -1.92\n",
       "75%          -1.57\n",
       "max           0.20\n",
       "Name: score_bki, dtype: float64"
      ]
     },
     "execution_count": 38,
     "metadata": {},
     "output_type": "execute_result"
    }
   ],
   "source": [
    "# Смотрим описательные статистики признака score_bki\n",
    "\n",
    "df['score_bki'].describe().round(2)"
   ]
  },
  {
   "cell_type": "code",
   "execution_count": 39,
   "metadata": {},
   "outputs": [
    {
     "data": {
      "text/plain": [
       "<matplotlib.axes._subplots.AxesSubplot at 0x7f5fd1c14cd0>"
      ]
     },
     "execution_count": 39,
     "metadata": {},
     "output_type": "execute_result"
    },
    {
     "data": {
      "image/png": "[encoded data removed]",
      "text/plain": [
       "<Figure size 432x288 with 1 Axes>"
      ]
     },
     "metadata": {
      "needs_background": "light"
     },
     "output_type": "display_data"
    }
   ],
   "source": [
    "# Смотрим распределение признака score_bki\n",
    "\n",
    "df['score_bki'].plot(kind='hist', title='Распределение по баллам БКИ')"
   ]
  },
  {
   "cell_type": "markdown",
   "metadata": {},
   "source": [
    "**Вывод**\n",
    "\n",
    "Распределение признака нормальное в рамках от -3,6 до +0,2 при среднем значении -1.9.\n",
    "\n",
    "Рейтинг условный, поэтому будем дальше смотреть насколько он влияет на значение дефолта."
   ]
  },
  {
   "cell_type": "markdown",
   "metadata": {},
   "source": [
    "#### bki_request_cnt"
   ]
  },
  {
   "cell_type": "code",
   "execution_count": 40,
   "metadata": {},
   "outputs": [
    {
     "data": {
      "text/plain": [
       "count    110148.00\n",
       "mean          2.01\n",
       "std           2.27\n",
       "min           0.00\n",
       "25%           0.00\n",
       "50%           1.00\n",
       "75%           3.00\n",
       "max          53.00\n",
       "Name: bki_request_cnt, dtype: float64"
      ]
     },
     "execution_count": 40,
     "metadata": {},
     "output_type": "execute_result"
    }
   ],
   "source": [
    "# Смотрим описательные статистики признака bki_request_cnt\n",
    "\n",
    "df['bki_request_cnt'].describe().round(2)"
   ]
  },
  {
   "cell_type": "code",
   "execution_count": 41,
   "metadata": {},
   "outputs": [
    {
     "data": {
      "text/plain": [
       "<matplotlib.axes._subplots.AxesSubplot at 0x7f5fd1a15f40>"
      ]
     },
     "execution_count": 41,
     "metadata": {},
     "output_type": "execute_result"
    },
    {
     "data": {
      "image/png": "[encoded data removed]",
      "text/plain": [
       "<Figure size 432x288 with 1 Axes>"
      ]
     },
     "metadata": {
      "needs_background": "light"
     },
     "output_type": "display_data"
    }
   ],
   "source": [
    "# Смотрим распределение признака bki_request_cnt\n",
    "\n",
    "df['bki_request_cnt'].plot(kind='hist', title='Распределение по кол-ву запросов в БКИ')"
   ]
  },
  {
   "cell_type": "markdown",
   "metadata": {},
   "source": [
    "**Вывод**\n",
    "\n",
    "В среднем 1 запрос на клиента (медиана).\n",
    "\n",
    "Распределение существенно смещенно влево."
   ]
  },
  {
   "cell_type": "markdown",
   "metadata": {},
   "source": [
    "#### region_rating"
   ]
  },
  {
   "cell_type": "code",
   "execution_count": 42,
   "metadata": {},
   "outputs": [
    {
     "data": {
      "text/plain": [
       "50    0.37\n",
       "60    0.22\n",
       "40    0.16\n",
       "80    0.16\n",
       "70    0.08\n",
       "30    0.00\n",
       "20    0.00\n",
       "Name: region_rating, dtype: float64"
      ]
     },
     "execution_count": 42,
     "metadata": {},
     "output_type": "execute_result"
    }
   ],
   "source": [
    "# Смотрим удельные значения рейтинга регионов\n",
    "\n",
    "df['region_rating'].value_counts(normalize=True).round(2)"
   ]
  },
  {
   "cell_type": "code",
   "execution_count": 43,
   "metadata": {},
   "outputs": [
    {
     "data": {
      "text/plain": [
       "<matplotlib.axes._subplots.AxesSubplot at 0x7f5fd198aa00>"
      ]
     },
     "execution_count": 43,
     "metadata": {},
     "output_type": "execute_result"
    },
    {
     "data": {
      "image/png": "[encoded data removed]",
      "text/plain": [
       "<Figure size 432x288 with 1 Axes>"
      ]
     },
     "metadata": {
      "needs_background": "light"
     },
     "output_type": "display_data"
    }
   ],
   "source": [
    "df['region_rating'].value_counts(normalize=True).plot(kind='barh', title='Рейтинг регионов в общем кол-ве заявок')"
   ]
  },
  {
   "cell_type": "markdown",
   "metadata": {},
   "source": [
    "**Вывод**\n",
    "\n",
    "Почти 60% заявок приходится на регионы с рейтингом 50 и 60."
   ]
  },
  {
   "cell_type": "markdown",
   "metadata": {},
   "source": [
    "#### home_address и work_address\n",
    "\n",
    "Две переменные кодирующие категорию домашнего и рабочего адреса (описание категорий отсутствует) "
   ]
  },
  {
   "cell_type": "code",
   "execution_count": 44,
   "metadata": {},
   "outputs": [
    {
     "data": {
      "text/plain": [
       "(array([48688.,     0.,     0.,     0.,     0., 59591.,     0.,     0.,\n",
       "            0.,  1869.]),\n",
       " array([1. , 1.2, 1.4, 1.6, 1.8, 2. , 2.2, 2.4, 2.6, 2.8, 3. ]),\n",
       " <a list of 10 Patch objects>)"
      ]
     },
     "execution_count": 44,
     "metadata": {},
     "output_type": "execute_result"
    },
    {
     "data": {
      "image/png": "[encoded data removed]",
      "text/plain": [
       "<Figure size 864x288 with 2 Axes>"
      ]
     },
     "metadata": {
      "needs_background": "light"
     },
     "output_type": "display_data"
    }
   ],
   "source": [
    "# Выведем графики обеих переменных\n",
    "\n",
    "fig, axes = plt.subplots(1, 2, figsize=(12, 4))\n",
    "\n",
    "axes[0].set_title('Рабочий адрес')\n",
    "axes[0].hist(df['work_address'])\n",
    "\n",
    "axes[1].set_title('Домашний адрес')\n",
    "axes[1].hist(df['home_address'])"
   ]
  },
  {
   "cell_type": "code",
   "execution_count": 45,
   "metadata": {},
   "outputs": [
    {
     "data": {
      "text/plain": [
       "<matplotlib.axes._subplots.AxesSubplot at 0x7f5fd1860a60>"
      ]
     },
     "execution_count": 45,
     "metadata": {},
     "output_type": "execute_result"
    },
    {
     "data": {
      "image/png": "[encoded data removed]",
      "text/plain": [
       "<Figure size 432x288 with 2 Axes>"
      ]
     },
     "metadata": {
      "needs_background": "light"
     },
     "output_type": "display_data"
    }
   ],
   "source": [
    "# Посмотрим есть ли взаимосвязь между адресами работы и домашним адресом\n",
    "\n",
    "sns.heatmap(df[['work_address', 'home_address']].corr(), annot=True, cmap='coolwarm')"
   ]
  },
  {
   "cell_type": "markdown",
   "metadata": {},
   "source": [
    "**Вывод**\n",
    "\n",
    "Между категориями домашнего и рабочего адресов присутствует достаточно сильная взаимосвязь.\n",
    "\n",
    "При этом распределение категорий рабочего адреса существенно смещено вправо, в то время как категории домашнего адреса \"тяготеют\" к низким значениям. "
   ]
  },
  {
   "cell_type": "markdown",
   "metadata": {},
   "source": [
    "#### income"
   ]
  },
  {
   "cell_type": "code",
   "execution_count": 46,
   "metadata": {},
   "outputs": [
    {
     "data": {
      "text/plain": [
       "count     110148.00\n",
       "mean       41012.65\n",
       "std        45399.74\n",
       "min         1000.00\n",
       "25%        20000.00\n",
       "50%        30000.00\n",
       "75%        48000.00\n",
       "max      1000000.00\n",
       "Name: income, dtype: float64"
      ]
     },
     "execution_count": 46,
     "metadata": {},
     "output_type": "execute_result"
    }
   ],
   "source": [
    "# Смотрим описательные статистики переменной income\n",
    "\n",
    "df['income'].describe().round(2)"
   ]
  },
  {
   "cell_type": "code",
   "execution_count": 47,
   "metadata": {},
   "outputs": [
    {
     "data": {
      "text/plain": [
       "Training                       \n",
       "0         (0.999, 100900.0]        34825\n",
       "          (100900.0, 200800.0]      1184\n",
       "          (200800.0, 300700.0]       211\n",
       "          (300700.0, 400600.0]        65\n",
       "          (400600.0, 500500.0]        32\n",
       "          (500500.0, 600400.0]        11\n",
       "          (700300.0, 800200.0]         7\n",
       "          (800200.0, 900100.0]         5\n",
       "          (600400.0, 700300.0]         5\n",
       "          (900100.0, 1000000.0]        4\n",
       "1         (0.999, 100900.0]        70663\n",
       "          (100900.0, 200800.0]      2423\n",
       "          (200800.0, 300700.0]       445\n",
       "          (300700.0, 400600.0]       106\n",
       "          (400600.0, 500500.0]        74\n",
       "          (500500.0, 600400.0]        32\n",
       "          (900100.0, 1000000.0]       21\n",
       "          (600400.0, 700300.0]        17\n",
       "          (700300.0, 800200.0]        10\n",
       "          (800200.0, 900100.0]         8\n",
       "Name: income, dtype: int64"
      ]
     },
     "execution_count": 47,
     "metadata": {},
     "output_type": "execute_result"
    }
   ],
   "source": [
    "# Максимальное значение достаточно сильно разнится от 75% квартиля, посмотрим на наличие выбросов\n",
    "\n",
    "df.groupby(by='Training')['income'].value_counts(bins=10)"
   ]
  },
  {
   "cell_type": "code",
   "execution_count": 48,
   "metadata": {},
   "outputs": [
    {
     "data": {
      "text/plain": [
       "<matplotlib.axes._subplots.AxesSubplot at 0x7f5fd183e070>"
      ]
     },
     "execution_count": 48,
     "metadata": {},
     "output_type": "execute_result"
    },
    {
     "data": {
      "image/png": "[encoded data removed]",
      "text/plain": [
       "<Figure size 432x288 with 1 Axes>"
      ]
     },
     "metadata": {
      "needs_background": "light"
     },
     "output_type": "display_data"
    }
   ],
   "source": [
    "# Посмотрим на график распределения доходов\n",
    "\n",
    "sns.distplot(df['income'], kde=False, rug=False)"
   ]
  },
  {
   "cell_type": "markdown",
   "metadata": {},
   "source": [
    "**Вывод**\n",
    "\n",
    "Медианный доход - 30 тыс., с достаточно большим разбросом (от 1 тыс. до 1 мил.).\n",
    "\n",
    "Есть достаточно существенные выбросы с правой стороны распределения (макс. доход - 1 мил.), но т.к. таковые не единичны + присутствуют как в тренировочном, так и в тестовом датасетах, не удаляем их, чтобы не повлиять на предсказательную силу модели для таких клиентов."
   ]
  },
  {
   "cell_type": "markdown",
   "metadata": {},
   "source": [
    "#### sna"
   ]
  },
  {
   "cell_type": "code",
   "execution_count": 49,
   "metadata": {},
   "outputs": [
    {
     "data": {
      "text/plain": [
       "1    0.64\n",
       "4    0.16\n",
       "2    0.14\n",
       "3    0.06\n",
       "Name: sna, dtype: float64"
      ]
     },
     "execution_count": 49,
     "metadata": {},
     "output_type": "execute_result"
    }
   ],
   "source": [
    "# Смотрим распределение значений параметра sna\n",
    "\n",
    "df['sna'].value_counts(normalize=True).round(2)"
   ]
  },
  {
   "cell_type": "code",
   "execution_count": 50,
   "metadata": {},
   "outputs": [
    {
     "data": {
      "text/plain": [
       "<matplotlib.axes._subplots.AxesSubplot at 0x7f5fccf67eb0>"
      ]
     },
     "execution_count": 50,
     "metadata": {},
     "output_type": "execute_result"
    },
    {
     "data": {
      "image/png": "[encoded data removed]",
      "text/plain": [
       "<Figure size 432x288 with 1 Axes>"
      ]
     },
     "metadata": {
      "needs_background": "light"
     },
     "output_type": "display_data"
    }
   ],
   "source": [
    "# Строим график распределения значений\n",
    "\n",
    "sns.distplot(df['sna'], kde=False, rug=False)"
   ]
  },
  {
   "cell_type": "markdown",
   "metadata": {},
   "source": [
    "**Вывод**\n",
    "\n",
    "Преобладает категория 1 - почти 2/3 наблюдений."
   ]
  },
  {
   "cell_type": "markdown",
   "metadata": {},
   "source": [
    "#### first_time"
   ]
  },
  {
   "cell_type": "code",
   "execution_count": 51,
   "metadata": {},
   "outputs": [
    {
     "data": {
      "text/plain": [
       "3    0.42\n",
       "4    0.25\n",
       "1    0.17\n",
       "2    0.16\n",
       "Name: first_time, dtype: float64"
      ]
     },
     "execution_count": 51,
     "metadata": {},
     "output_type": "execute_result"
    }
   ],
   "source": [
    "# Смотрим распределение значений параметра first_time\n",
    "\n",
    "df['first_time'].value_counts(normalize=True).round(2)"
   ]
  },
  {
   "cell_type": "code",
   "execution_count": 52,
   "metadata": {},
   "outputs": [
    {
     "data": {
      "text/plain": [
       "<matplotlib.axes._subplots.AxesSubplot at 0x7f5fccec4b50>"
      ]
     },
     "execution_count": 52,
     "metadata": {},
     "output_type": "execute_result"
    },
    {
     "data": {
      "image/png": "[encoded data removed]",
      "text/plain": [
       "<Figure size 432x288 with 1 Axes>"
      ]
     },
     "metadata": {
      "needs_background": "light"
     },
     "output_type": "display_data"
    }
   ],
   "source": [
    "# Строим график распределения значений\n",
    "\n",
    "sns.distplot(df['first_time'], kde=False, rug=False)"
   ]
  },
  {
   "cell_type": "markdown",
   "metadata": {},
   "source": [
    "**Вывод**\n",
    "\n",
    "Преобладают категории 3 и 4 (суммарно ок. 2/3 наблюдений), при этом кол-во записей с категориями 1 и 2 приблизительно одинаково."
   ]
  },
  {
   "cell_type": "markdown",
   "metadata": {},
   "source": [
    "#### foreign_passport"
   ]
  },
  {
   "cell_type": "code",
   "execution_count": 53,
   "metadata": {},
   "outputs": [
    {
     "data": {
      "text/plain": [
       "N    0.85\n",
       "Y    0.15\n",
       "Name: foreign_passport, dtype: float64"
      ]
     },
     "execution_count": 53,
     "metadata": {},
     "output_type": "execute_result"
    }
   ],
   "source": [
    "# Смотрим распределение значений параметра foreign_passport\n",
    "\n",
    "df['foreign_passport'].value_counts(normalize=True).round(2)"
   ]
  },
  {
   "cell_type": "code",
   "execution_count": 54,
   "metadata": {},
   "outputs": [
    {
     "data": {
      "text/plain": [
       "<matplotlib.axes._subplots.AxesSubplot at 0x7f5fccdf3bb0>"
      ]
     },
     "execution_count": 54,
     "metadata": {},
     "output_type": "execute_result"
    },
    {
     "data": {
      "image/png": "[encoded data removed]",
      "text/plain": [
       "<Figure size 432x288 with 1 Axes>"
      ]
     },
     "metadata": {
      "needs_background": "light"
     },
     "output_type": "display_data"
    }
   ],
   "source": [
    "# Строим график распределения значений параметра foreign_passport\n",
    "\n",
    "df['foreign_passport'].value_counts().plot(kind='bar', title='Наличие загранпаспортов')"
   ]
  },
  {
   "cell_type": "code",
   "execution_count": 55,
   "metadata": {},
   "outputs": [],
   "source": [
    "# Кодируем значения переменной foreign_passport на целочисленные\n",
    "\n",
    "df['foreign_passport'] = df['foreign_passport'].replace(yn_dict)"
   ]
  },
  {
   "cell_type": "markdown",
   "metadata": {},
   "source": [
    "**Вывод**\n",
    "\n",
    "У 85% заявителей отсутствует загранпаспорт.\n",
    "\n",
    "Переменная перекодирована в целочисленный формат."
   ]
  },
  {
   "cell_type": "markdown",
   "metadata": {},
   "source": [
    "#### default"
   ]
  },
  {
   "cell_type": "code",
   "execution_count": 56,
   "metadata": {},
   "outputs": [
    {
     "data": {
      "text/plain": [
       "Training  default\n",
       "0         NaN        1.00\n",
       "1         0.0        0.87\n",
       "          1.0        0.13\n",
       "Name: default, dtype: float64"
      ]
     },
     "execution_count": 56,
     "metadata": {},
     "output_type": "execute_result"
    }
   ],
   "source": [
    "# Смотрим распределение признака default и убедимся в том, что пропуски только в тестовом датасете\n",
    "\n",
    "df.groupby(by='Training')['default'].value_counts(normalize=True, dropna=False).round(2)"
   ]
  },
  {
   "cell_type": "markdown",
   "metadata": {},
   "source": [
    "**Вывод**\n",
    "\n",
    "В 13% случаев был неплатёж по кредиту."
   ]
  },
  {
   "cell_type": "markdown",
   "metadata": {},
   "source": [
    "---"
   ]
  },
  {
   "cell_type": "markdown",
   "metadata": {},
   "source": [
    "### 4. Оценка корреляции"
   ]
  },
  {
   "cell_type": "code",
   "execution_count": 57,
   "metadata": {},
   "outputs": [
    {
     "data": {
      "text/plain": [
       "<matplotlib.axes._subplots.AxesSubplot at 0x7f5fccdb3ac0>"
      ]
     },
     "execution_count": 57,
     "metadata": {},
     "output_type": "execute_result"
    },
    {
     "data": {
      "image/png": "[encoded data removed]",
      "text/plain": [
       "<Figure size 720x720 with 2 Axes>"
      ]
     },
     "metadata": {
      "needs_background": "light"
     },
     "output_type": "display_data"
    }
   ],
   "source": [
    "# Построим график корреляции для всех переменных\n",
    "\n",
    "fig, ax = plt.subplots(figsize=(10,10))\n",
    "\n",
    "c = df.drop(['Training'], axis=1).corr().abs()\n",
    "\n",
    "sns.heatmap(c, vmin=0, vmax=1, annot=False, cmap='coolwarm', ax=ax)"
   ]
  },
  {
   "cell_type": "code",
   "execution_count": 58,
   "metadata": {},
   "outputs": [
    {
     "data": {
      "text/plain": [
       "score_bki           0.18\n",
       "sna                 0.13\n",
       "decline_app_cnt     0.11\n",
       "first_time          0.11\n",
       "region_rating       0.09\n",
       "home_address        0.08\n",
       "work_address        0.08\n",
       "bki_request_cnt     0.08\n",
       "foreign_passport    0.07\n",
       "car_type            0.06\n",
       "education           0.06\n",
       "good_work           0.04\n",
       "car                 0.04\n",
       "income              0.04\n",
       "app_date_days       0.04\n",
       "client_id           0.04\n",
       "app_date_month      0.04\n",
       "age                 0.03\n",
       "sex                 0.02\n",
       "Name: default, dtype: float64"
      ]
     },
     "execution_count": 58,
     "metadata": {},
     "output_type": "execute_result"
    }
   ],
   "source": [
    "# Смотрим список коэф. корреляции отдельных переменных на default\n",
    "\n",
    "с = df.drop(['Training'], axis=1).corr()\n",
    "\n",
    "c['default'].sort_values(ascending=False).drop('default').round(2)"
   ]
  },
  {
   "cell_type": "markdown",
   "metadata": {},
   "source": [
    "**Вывод**\n",
    "\n",
    "Нет признаков с ярко выраженной положительной или отрицательной корреляцией с default - самая высокая корреляция обнаружена со скоринговым баллом из БКИ, что вполне естественно.\n",
    "\n",
    "Среди корреляции между входными параметрами есть естественная мультиколлинеарность между app_date_days и app_date_month (оба параметра были выведены из app_date - даты подачи заявки). Также присутствует сильная связь между car / car_type и home_address / work_address, что было обнаружено и на этапе предварительного анализа переменных."
   ]
  },
  {
   "cell_type": "markdown",
   "metadata": {},
   "source": [
    "---"
   ]
  },
  {
   "cell_type": "markdown",
   "metadata": {},
   "source": [
    "### 5. Подготовка данных к машинному обучению"
   ]
  },
  {
   "cell_type": "markdown",
   "metadata": {},
   "source": [
    "#### Дополнительная обработка столбцов"
   ]
  },
  {
   "cell_type": "code",
   "execution_count": 59,
   "metadata": {},
   "outputs": [
    {
     "name": "stdout",
     "output_type": "stream",
     "text": [
      "<class 'pandas.core.frame.DataFrame'>\n",
      "RangeIndex: 110148 entries, 0 to 110147\n",
      "Data columns (total 22 columns):\n",
      " #   Column            Non-Null Count   Dtype         \n",
      "---  ------            --------------   -----         \n",
      " 0   client_id         110148 non-null  int64         \n",
      " 1   app_date          110148 non-null  datetime64[ns]\n",
      " 2   education         110148 non-null  int64         \n",
      " 3   sex               110148 non-null  int64         \n",
      " 4   age               110148 non-null  int64         \n",
      " 5   car               110148 non-null  int64         \n",
      " 6   car_type          110148 non-null  int64         \n",
      " 7   decline_app_cnt   110148 non-null  int64         \n",
      " 8   good_work         110148 non-null  int64         \n",
      " 9   score_bki         110148 non-null  float64       \n",
      " 10  bki_request_cnt   110148 non-null  int64         \n",
      " 11  region_rating     110148 non-null  int64         \n",
      " 12  home_address      110148 non-null  int64         \n",
      " 13  work_address      110148 non-null  int64         \n",
      " 14  income            110148 non-null  int64         \n",
      " 15  sna               110148 non-null  int64         \n",
      " 16  first_time        110148 non-null  int64         \n",
      " 17  foreign_passport  110148 non-null  int64         \n",
      " 18  default           73799 non-null   float64       \n",
      " 19  Training          110148 non-null  int64         \n",
      " 20  app_date_days     110148 non-null  int64         \n",
      " 21  app_date_month    110148 non-null  int64         \n",
      "dtypes: datetime64[ns](1), float64(2), int64(19)\n",
      "memory usage: 18.5 MB\n"
     ]
    }
   ],
   "source": [
    "# Уточняем типы оставшихся\n",
    "\n",
    "df.info()"
   ]
  },
  {
   "cell_type": "code",
   "execution_count": 60,
   "metadata": {},
   "outputs": [],
   "source": [
    "# двоичные переменные\n",
    "bin_cols = ['sex', 'car', 'car_type', 'good_work', 'foreign_passport']\n",
    "\n",
    "# категориальные переменные\n",
    "cat_cols = ['education', 'home_address', 'work_address', 'region_rating', 'sna', 'first_time', 'app_date_month']\n",
    "\n",
    "# числовые переменные\n",
    "num_cols = ['age', 'decline_app_cnt', 'bki_request_cnt', 'score_bki', 'income', 'app_date_days']"
   ]
  },
  {
   "cell_type": "code",
   "execution_count": 61,
   "metadata": {},
   "outputs": [],
   "source": [
    "# Распределение числовых переменных смещенно вправо, логарифмируем их, чтобы нормализировать их\n",
    "# распределение. Добавление небольшой константы к np.log(x) исключает те ситуации, где np.log(0)\n",
    "\n",
    "# for i in num_cols:\n",
    "#     df[i] = np.log(df[i] + 1)\n",
    "#     plt.figure()\n",
    "#     sns.distplot(df[i][df[i] > 0].dropna(), kde=False, rug=False)\n",
    "#     plt.title(i)\n",
    "#     plt.show()"
   ]
  },
  {
   "cell_type": "markdown",
   "metadata": {},
   "source": [
    "#### Визуализация числовых переменных с использованием boxplot"
   ]
  },
  {
   "cell_type": "code",
   "execution_count": 62,
   "metadata": {},
   "outputs": [
    {
     "data": {
      "image/png": "[encoded data removed]",
      "text/plain": [
       "<Figure size 1080x1080 with 6 Axes>"
      ]
     },
     "metadata": {
      "needs_background": "light"
     },
     "output_type": "display_data"
    }
   ],
   "source": [
    "fig, axes = plt.subplots(ceil(len(num_cols) / 2), 2, figsize=(15,15))\n",
    "\n",
    "plt.subplots_adjust(wspace = 0.5)\n",
    "\n",
    "axes = axes.flatten()\n",
    "\n",
    "for i in range(len(num_cols)):\n",
    "    sns.boxplot(x=\"default\", y=num_cols[i], data=df, orient = 'v', ax=axes[i], showfliers=False)"
   ]
  },
  {
   "cell_type": "markdown",
   "metadata": {},
   "source": [
    "#### Преобразование категориальных признаков"
   ]
  },
  {
   "cell_type": "markdown",
   "metadata": {},
   "source": [
    "<span style=\"color:red\">**Важно!**</span>\n",
    "При использовании LabelEncoder() необходимо убедиться, что признак не может принимать неизвестных ранее значений.\n",
    "Поэтому их безопасно использовать на двоичных признаках, но на других нужно сначала убедиться, что у нас имеется полный перечень значений."
   ]
  },
  {
   "cell_type": "code",
   "execution_count": 63,
   "metadata": {},
   "outputs": [],
   "source": [
    "# Данный шаг излишен - мы уже преобразовали эти переменные в целочисленные\n",
    "\n",
    "# # Для бинарных признаков используем LabelEncoder\n",
    "\n",
    "# label_encoder = LabelEncoder()\n",
    "\n",
    "# for column in bin_cols:\n",
    "#     df[column] = label_encoder.fit_transform(df[column])\n",
    "    \n",
    "# # Убедимся в преобразовании\n",
    "\n",
    "# df.head()"
   ]
  },
  {
   "cell_type": "markdown",
   "metadata": {},
   "source": [
    "#### Оценка значимости числовых признаков"
   ]
  },
  {
   "cell_type": "code",
   "execution_count": 64,
   "metadata": {},
   "outputs": [
    {
     "data": {
      "text/plain": [
       "<matplotlib.axes._subplots.AxesSubplot at 0x7f5fcca4e580>"
      ]
     },
     "execution_count": 64,
     "metadata": {},
     "output_type": "execute_result"
    },
    {
     "data": {
      "image/png": "[encoded data removed]",
      "text/plain": [
       "<Figure size 432x288 with 1 Axes>"
      ]
     },
     "metadata": {
      "needs_background": "light"
     },
     "output_type": "display_data"
    }
   ],
   "source": [
    "imp_num = pd.Series(f_classif(df[num_cols][df['Training'] == 1], df['default'][df['Training'] == 1])[0], index = num_cols)\n",
    "\n",
    "imp_num.sort_values(inplace = True)\n",
    "\n",
    "imp_num.plot(kind = 'barh', title='Значимость числовых признаков')"
   ]
  },
  {
   "cell_type": "markdown",
   "metadata": {},
   "source": [
    "**Вывод**\n",
    "\n",
    "Балл заёмщика БКИ является самым значимым признаком, за ним с большим отрывом идёт кол-во отказов.\n",
    "\n",
    "Меньше всего на неплатёжеспособность влияет время подачи заявки и возраст."
   ]
  },
  {
   "cell_type": "markdown",
   "metadata": {},
   "source": [
    "#### Оценка значимости двоичных и категориальных признаков"
   ]
  },
  {
   "cell_type": "code",
   "execution_count": 65,
   "metadata": {},
   "outputs": [
    {
     "data": {
      "text/plain": [
       "<matplotlib.axes._subplots.AxesSubplot at 0x7f5fcca358b0>"
      ]
     },
     "execution_count": 65,
     "metadata": {},
     "output_type": "execute_result"
    },
    {
     "data": {
      "image/png": "[encoded data removed]",
      "text/plain": [
       "<Figure size 432x288 with 1 Axes>"
      ]
     },
     "metadata": {
      "needs_background": "light"
     },
     "output_type": "display_data"
    }
   ],
   "source": [
    "imp_cat = pd.Series(mutual_info_classif(df[bin_cols + cat_cols][df['Training'] == 1]\n",
    "                                    ,df['default'][df['Training'] == 1]\n",
    "                                    ,discrete_features=True)\n",
    "                                    ,index=bin_cols + cat_cols)\n",
    "\n",
    "imp_cat.sort_values(inplace = True)\n",
    "\n",
    "imp_cat.plot(kind = 'barh')"
   ]
  },
  {
   "cell_type": "markdown",
   "metadata": {},
   "source": [
    "**Вывод**\n",
    "\n",
    "Наличие связи банка с заёмщиком и давность этой связи играют самую существенную роль."
   ]
  },
  {
   "cell_type": "markdown",
   "metadata": {},
   "source": [
    "#### Преобразование категориальных признаков в dummy-признаки"
   ]
  },
  {
   "cell_type": "code",
   "execution_count": 66,
   "metadata": {},
   "outputs": [],
   "source": [
    "# Добавляем dummy-переменные для категориальных признаков\n",
    "\n",
    "df = pd.get_dummies(df, columns=cat_cols, prefix=cat_cols)"
   ]
  },
  {
   "cell_type": "code",
   "execution_count": 67,
   "metadata": {},
   "outputs": [],
   "source": [
    "# X_cat = OneHotEncoder(sparse=False).fit_transform(df[cat_cols].values)\n",
    "\n",
    "# f'Кол-во колонок после преобразования: {np.shape(X_cat)[1]}'"
   ]
  },
  {
   "cell_type": "markdown",
   "metadata": {},
   "source": [
    "#### Стандартизация числовых переменных"
   ]
  },
  {
   "cell_type": "code",
   "execution_count": 68,
   "metadata": {},
   "outputs": [],
   "source": [
    "s = StandardScaler()\n",
    "\n",
    "df[num_cols] = pd.DataFrame(s.fit_transform(df[num_cols]), columns=df[num_cols].columns)"
   ]
  },
  {
   "cell_type": "code",
   "execution_count": 69,
   "metadata": {},
   "outputs": [
    {
     "data": {
      "text/html": [
       "<div>\n",
       "<style scoped>\n",
       "    .dataframe tbody tr th:only-of-type {\n",
       "        vertical-align: middle;\n",
       "    }\n",
       "\n",
       "    .dataframe tbody tr th {\n",
       "        vertical-align: top;\n",
       "    }\n",
       "\n",
       "    .dataframe thead th {\n",
       "        text-align: right;\n",
       "    }\n",
       "</style>\n",
       "<table border=\"1\" class=\"dataframe\">\n",
       "  <thead>\n",
       "    <tr style=\"text-align: right;\">\n",
       "      <th></th>\n",
       "      <th>client_id</th>\n",
       "      <th>app_date</th>\n",
       "      <th>sex</th>\n",
       "      <th>age</th>\n",
       "      <th>car</th>\n",
       "      <th>car_type</th>\n",
       "      <th>decline_app_cnt</th>\n",
       "      <th>good_work</th>\n",
       "      <th>score_bki</th>\n",
       "      <th>bki_request_cnt</th>\n",
       "      <th>income</th>\n",
       "      <th>foreign_passport</th>\n",
       "      <th>default</th>\n",
       "      <th>Training</th>\n",
       "      <th>app_date_days</th>\n",
       "      <th>education_0</th>\n",
       "      <th>education_1</th>\n",
       "      <th>education_2</th>\n",
       "      <th>education_3</th>\n",
       "      <th>education_4</th>\n",
       "      <th>home_address_1</th>\n",
       "      <th>home_address_2</th>\n",
       "      <th>home_address_3</th>\n",
       "      <th>work_address_1</th>\n",
       "      <th>work_address_2</th>\n",
       "      <th>work_address_3</th>\n",
       "      <th>region_rating_20</th>\n",
       "      <th>region_rating_30</th>\n",
       "      <th>region_rating_40</th>\n",
       "      <th>region_rating_50</th>\n",
       "      <th>region_rating_60</th>\n",
       "      <th>region_rating_70</th>\n",
       "      <th>region_rating_80</th>\n",
       "      <th>sna_1</th>\n",
       "      <th>sna_2</th>\n",
       "      <th>sna_3</th>\n",
       "      <th>sna_4</th>\n",
       "      <th>first_time_1</th>\n",
       "      <th>first_time_2</th>\n",
       "      <th>first_time_3</th>\n",
       "      <th>first_time_4</th>\n",
       "      <th>app_date_month_1</th>\n",
       "      <th>app_date_month_2</th>\n",
       "      <th>app_date_month_3</th>\n",
       "      <th>app_date_month_4</th>\n",
       "    </tr>\n",
       "  </thead>\n",
       "  <tbody>\n",
       "    <tr>\n",
       "      <th>80438</th>\n",
       "      <td>23891</td>\n",
       "      <td>2014-01-30</td>\n",
       "      <td>0</td>\n",
       "      <td>0.065167</td>\n",
       "      <td>0</td>\n",
       "      <td>0</td>\n",
       "      <td>-0.341893</td>\n",
       "      <td>0</td>\n",
       "      <td>0.269235</td>\n",
       "      <td>-0.443335</td>\n",
       "      <td>-0.242572</td>\n",
       "      <td>0</td>\n",
       "      <td>NaN</td>\n",
       "      <td>0</td>\n",
       "      <td>-0.996743</td>\n",
       "      <td>0</td>\n",
       "      <td>1</td>\n",
       "      <td>0</td>\n",
       "      <td>0</td>\n",
       "      <td>0</td>\n",
       "      <td>0</td>\n",
       "      <td>1</td>\n",
       "      <td>0</td>\n",
       "      <td>0</td>\n",
       "      <td>0</td>\n",
       "      <td>1</td>\n",
       "      <td>0</td>\n",
       "      <td>0</td>\n",
       "      <td>0</td>\n",
       "      <td>0</td>\n",
       "      <td>1</td>\n",
       "      <td>0</td>\n",
       "      <td>0</td>\n",
       "      <td>1</td>\n",
       "      <td>0</td>\n",
       "      <td>0</td>\n",
       "      <td>0</td>\n",
       "      <td>0</td>\n",
       "      <td>0</td>\n",
       "      <td>1</td>\n",
       "      <td>0</td>\n",
       "      <td>1</td>\n",
       "      <td>0</td>\n",
       "      <td>0</td>\n",
       "      <td>0</td>\n",
       "    </tr>\n",
       "    <tr>\n",
       "      <th>101657</th>\n",
       "      <td>51712</td>\n",
       "      <td>2014-02-28</td>\n",
       "      <td>0</td>\n",
       "      <td>-0.629398</td>\n",
       "      <td>1</td>\n",
       "      <td>0</td>\n",
       "      <td>-0.341893</td>\n",
       "      <td>0</td>\n",
       "      <td>0.763501</td>\n",
       "      <td>-0.002207</td>\n",
       "      <td>-0.572972</td>\n",
       "      <td>0</td>\n",
       "      <td>NaN</td>\n",
       "      <td>0</td>\n",
       "      <td>-0.092638</td>\n",
       "      <td>1</td>\n",
       "      <td>0</td>\n",
       "      <td>0</td>\n",
       "      <td>0</td>\n",
       "      <td>0</td>\n",
       "      <td>1</td>\n",
       "      <td>0</td>\n",
       "      <td>0</td>\n",
       "      <td>0</td>\n",
       "      <td>1</td>\n",
       "      <td>0</td>\n",
       "      <td>0</td>\n",
       "      <td>0</td>\n",
       "      <td>0</td>\n",
       "      <td>1</td>\n",
       "      <td>0</td>\n",
       "      <td>0</td>\n",
       "      <td>0</td>\n",
       "      <td>0</td>\n",
       "      <td>0</td>\n",
       "      <td>1</td>\n",
       "      <td>0</td>\n",
       "      <td>0</td>\n",
       "      <td>0</td>\n",
       "      <td>1</td>\n",
       "      <td>0</td>\n",
       "      <td>0</td>\n",
       "      <td>1</td>\n",
       "      <td>0</td>\n",
       "      <td>0</td>\n",
       "    </tr>\n",
       "    <tr>\n",
       "      <th>47992</th>\n",
       "      <td>85861</td>\n",
       "      <td>2014-04-02</td>\n",
       "      <td>1</td>\n",
       "      <td>-0.455757</td>\n",
       "      <td>0</td>\n",
       "      <td>0</td>\n",
       "      <td>-0.341893</td>\n",
       "      <td>0</td>\n",
       "      <td>1.714369</td>\n",
       "      <td>0.880049</td>\n",
       "      <td>-0.484865</td>\n",
       "      <td>0</td>\n",
       "      <td>0.0</td>\n",
       "      <td>1</td>\n",
       "      <td>0.936170</td>\n",
       "      <td>1</td>\n",
       "      <td>0</td>\n",
       "      <td>0</td>\n",
       "      <td>0</td>\n",
       "      <td>0</td>\n",
       "      <td>1</td>\n",
       "      <td>0</td>\n",
       "      <td>0</td>\n",
       "      <td>0</td>\n",
       "      <td>0</td>\n",
       "      <td>1</td>\n",
       "      <td>0</td>\n",
       "      <td>0</td>\n",
       "      <td>1</td>\n",
       "      <td>0</td>\n",
       "      <td>0</td>\n",
       "      <td>0</td>\n",
       "      <td>0</td>\n",
       "      <td>1</td>\n",
       "      <td>0</td>\n",
       "      <td>0</td>\n",
       "      <td>0</td>\n",
       "      <td>0</td>\n",
       "      <td>1</td>\n",
       "      <td>0</td>\n",
       "      <td>0</td>\n",
       "      <td>0</td>\n",
       "      <td>0</td>\n",
       "      <td>0</td>\n",
       "      <td>1</td>\n",
       "    </tr>\n",
       "    <tr>\n",
       "      <th>16850</th>\n",
       "      <td>97925</td>\n",
       "      <td>2014-04-15</td>\n",
       "      <td>1</td>\n",
       "      <td>1.454295</td>\n",
       "      <td>0</td>\n",
       "      <td>0</td>\n",
       "      <td>0.909522</td>\n",
       "      <td>0</td>\n",
       "      <td>2.021144</td>\n",
       "      <td>-0.443335</td>\n",
       "      <td>0.308095</td>\n",
       "      <td>0</td>\n",
       "      <td>0.0</td>\n",
       "      <td>1</td>\n",
       "      <td>1.341459</td>\n",
       "      <td>1</td>\n",
       "      <td>0</td>\n",
       "      <td>0</td>\n",
       "      <td>0</td>\n",
       "      <td>0</td>\n",
       "      <td>0</td>\n",
       "      <td>1</td>\n",
       "      <td>0</td>\n",
       "      <td>0</td>\n",
       "      <td>0</td>\n",
       "      <td>1</td>\n",
       "      <td>0</td>\n",
       "      <td>0</td>\n",
       "      <td>1</td>\n",
       "      <td>0</td>\n",
       "      <td>0</td>\n",
       "      <td>0</td>\n",
       "      <td>0</td>\n",
       "      <td>1</td>\n",
       "      <td>0</td>\n",
       "      <td>0</td>\n",
       "      <td>0</td>\n",
       "      <td>0</td>\n",
       "      <td>1</td>\n",
       "      <td>0</td>\n",
       "      <td>0</td>\n",
       "      <td>0</td>\n",
       "      <td>0</td>\n",
       "      <td>0</td>\n",
       "      <td>1</td>\n",
       "    </tr>\n",
       "    <tr>\n",
       "      <th>20092</th>\n",
       "      <td>74019</td>\n",
       "      <td>2014-03-21</td>\n",
       "      <td>1</td>\n",
       "      <td>0.238808</td>\n",
       "      <td>0</td>\n",
       "      <td>0</td>\n",
       "      <td>-0.341893</td>\n",
       "      <td>0</td>\n",
       "      <td>-0.696197</td>\n",
       "      <td>-0.443335</td>\n",
       "      <td>-0.440812</td>\n",
       "      <td>0</td>\n",
       "      <td>0.0</td>\n",
       "      <td>1</td>\n",
       "      <td>0.562058</td>\n",
       "      <td>1</td>\n",
       "      <td>0</td>\n",
       "      <td>0</td>\n",
       "      <td>0</td>\n",
       "      <td>0</td>\n",
       "      <td>1</td>\n",
       "      <td>0</td>\n",
       "      <td>0</td>\n",
       "      <td>0</td>\n",
       "      <td>1</td>\n",
       "      <td>0</td>\n",
       "      <td>0</td>\n",
       "      <td>0</td>\n",
       "      <td>0</td>\n",
       "      <td>0</td>\n",
       "      <td>1</td>\n",
       "      <td>0</td>\n",
       "      <td>0</td>\n",
       "      <td>1</td>\n",
       "      <td>0</td>\n",
       "      <td>0</td>\n",
       "      <td>0</td>\n",
       "      <td>0</td>\n",
       "      <td>1</td>\n",
       "      <td>0</td>\n",
       "      <td>0</td>\n",
       "      <td>0</td>\n",
       "      <td>0</td>\n",
       "      <td>1</td>\n",
       "      <td>0</td>\n",
       "    </tr>\n",
       "  </tbody>\n",
       "</table>\n",
       "</div>"
      ],
      "text/plain": [
       "        client_id   app_date  sex       age  car  car_type  decline_app_cnt  \\\n",
       "80438       23891 2014-01-30    0  0.065167    0         0        -0.341893   \n",
       "101657      51712 2014-02-28    0 -0.629398    1         0        -0.341893   \n",
       "47992       85861 2014-04-02    1 -0.455757    0         0        -0.341893   \n",
       "16850       97925 2014-04-15    1  1.454295    0         0         0.909522   \n",
       "20092       74019 2014-03-21    1  0.238808    0         0        -0.341893   \n",
       "\n",
       "        good_work  score_bki  bki_request_cnt    income  foreign_passport  \\\n",
       "80438           0   0.269235        -0.443335 -0.242572                 0   \n",
       "101657          0   0.763501        -0.002207 -0.572972                 0   \n",
       "47992           0   1.714369         0.880049 -0.484865                 0   \n",
       "16850           0   2.021144        -0.443335  0.308095                 0   \n",
       "20092           0  -0.696197        -0.443335 -0.440812                 0   \n",
       "\n",
       "        default  Training  app_date_days  education_0  education_1  \\\n",
       "80438       NaN         0      -0.996743            0            1   \n",
       "101657      NaN         0      -0.092638            1            0   \n",
       "47992       0.0         1       0.936170            1            0   \n",
       "16850       0.0         1       1.341459            1            0   \n",
       "20092       0.0         1       0.562058            1            0   \n",
       "\n",
       "        education_2  education_3  education_4  home_address_1  home_address_2  \\\n",
       "80438             0            0            0               0               1   \n",
       "101657            0            0            0               1               0   \n",
       "47992             0            0            0               1               0   \n",
       "16850             0            0            0               0               1   \n",
       "20092             0            0            0               1               0   \n",
       "\n",
       "        home_address_3  work_address_1  work_address_2  work_address_3  \\\n",
       "80438                0               0               0               1   \n",
       "101657               0               0               1               0   \n",
       "47992                0               0               0               1   \n",
       "16850                0               0               0               1   \n",
       "20092                0               0               1               0   \n",
       "\n",
       "        region_rating_20  region_rating_30  region_rating_40  \\\n",
       "80438                  0                 0                 0   \n",
       "101657                 0                 0                 0   \n",
       "47992                  0                 0                 1   \n",
       "16850                  0                 0                 1   \n",
       "20092                  0                 0                 0   \n",
       "\n",
       "        region_rating_50  region_rating_60  region_rating_70  \\\n",
       "80438                  0                 1                 0   \n",
       "101657                 1                 0                 0   \n",
       "47992                  0                 0                 0   \n",
       "16850                  0                 0                 0   \n",
       "20092                  0                 1                 0   \n",
       "\n",
       "        region_rating_80  sna_1  sna_2  sna_3  sna_4  first_time_1  \\\n",
       "80438                  0      1      0      0      0             0   \n",
       "101657                 0      0      0      1      0             0   \n",
       "47992                  0      1      0      0      0             0   \n",
       "16850                  0      1      0      0      0             0   \n",
       "20092                  0      1      0      0      0             0   \n",
       "\n",
       "        first_time_2  first_time_3  first_time_4  app_date_month_1  \\\n",
       "80438              0             1             0                 1   \n",
       "101657             0             1             0                 0   \n",
       "47992              1             0             0                 0   \n",
       "16850              1             0             0                 0   \n",
       "20092              1             0             0                 0   \n",
       "\n",
       "        app_date_month_2  app_date_month_3  app_date_month_4  \n",
       "80438                  0                 0                 0  \n",
       "101657                 1                 0                 0  \n",
       "47992                  0                 0                 1  \n",
       "16850                  0                 0                 1  \n",
       "20092                  0                 1                 0  "
      ]
     },
     "execution_count": 69,
     "metadata": {},
     "output_type": "execute_result"
    }
   ],
   "source": [
    "# Убедимся в успешности преобразований\n",
    "\n",
    "df.sample(5)"
   ]
  },
  {
   "cell_type": "markdown",
   "metadata": {},
   "source": [
    "---"
   ]
  },
  {
   "cell_type": "markdown",
   "metadata": {},
   "source": [
    "### 6. Построение модели и её оценка"
   ]
  },
  {
   "cell_type": "markdown",
   "metadata": {},
   "source": [
    "#### Разделение данных для обучения"
   ]
  },
  {
   "cell_type": "code",
   "execution_count": 70,
   "metadata": {},
   "outputs": [],
   "source": [
    "train_data = df.query('Training == 1').drop(['client_id', 'Training', 'app_date'], axis=1)\n",
    "test_data = df.query('Training == 0').drop(['Training', 'app_date'], axis=1)\n",
    "\n",
    "y = train_data['default'].values\n",
    "X = train_data.drop(['default'], axis=1)\n",
    "\n",
    "X_train, X_test, y_train, y_test = train_test_split(X, y, test_size=0.20, random_state=42)"
   ]
  },
  {
   "cell_type": "code",
   "execution_count": 71,
   "metadata": {},
   "outputs": [
    {
     "data": {
      "text/plain": [
       "'Dimensions not matching!'"
      ]
     },
     "metadata": {},
     "output_type": "display_data"
    },
    {
     "data": {
      "text/plain": [
       "'Размер тренировочного датасета: (73799, 42)'"
      ]
     },
     "metadata": {},
     "output_type": "display_data"
    },
    {
     "data": {
      "text/plain": [
       "'Размер проверочного датасета: (36349, 43)'"
      ]
     },
     "metadata": {},
     "output_type": "display_data"
    }
   ],
   "source": [
    "# проверяем размерность\n",
    "\n",
    "if (X.shape[0] == X_train.shape[0] + X_test.shape[0] and \\\n",
    "    X.shape[1] == X_train.shape[1] and X_train.shape[1] == X_test.shape[1] and \\\n",
    "    train_data.shape[1] == test_data.shape[1]):\n",
    "    display('No errors')\n",
    "else:\n",
    "    display('Dimensions not matching!')\n",
    "    \n",
    "display(f'Размер тренировочного датасета: {train_data.shape}', \\\n",
    "        f'Размер проверочного датасета: {test_data.shape}')"
   ]
  },
  {
   "cell_type": "markdown",
   "metadata": {},
   "source": [
    "#### Обучаем модель"
   ]
  },
  {
   "cell_type": "code",
   "execution_count": 72,
   "metadata": {},
   "outputs": [
    {
     "data": {
      "text/plain": [
       "LogisticRegression(max_iter=1000, random_state=42)"
      ]
     },
     "execution_count": 72,
     "metadata": {},
     "output_type": "execute_result"
    }
   ],
   "source": [
    "model = LogisticRegression(random_state=RANDOM_SEED, max_iter=1000)\n",
    "\n",
    "model.fit(X_train, y_train)"
   ]
  },
  {
   "cell_type": "markdown",
   "metadata": {},
   "source": [
    "#### Оценка качества модели"
   ]
  },
  {
   "cell_type": "code",
   "execution_count": 73,
   "metadata": {},
   "outputs": [
    {
     "data": {
      "image/png": "[encoded data removed]",
      "text/plain": [
       "<Figure size 432x288 with 1 Axes>"
      ]
     },
     "metadata": {
      "needs_background": "light"
     },
     "output_type": "display_data"
    }
   ],
   "source": [
    "probs = model.predict_proba(X_test)\n",
    "probs = probs[:,1]\n",
    "\n",
    "fpr, tpr, threshold = roc_curve(y_test, probs)\n",
    "roc_auc = roc_auc_score(y_test, probs)\n",
    "\n",
    "plt.figure()\n",
    "plt.plot([0, 1], label='Baseline', linestyle='--')\n",
    "plt.plot(fpr, tpr, label='Regression')\n",
    "plt.title('Logistic Regression ROC AUC = %0.3f' % roc_auc)\n",
    "plt.ylabel('True Positive Rate')\n",
    "plt.xlabel('False Positive Rate')\n",
    "plt.legend(loc='lower right')\n",
    "plt.show()"
   ]
  },
  {
   "cell_type": "code",
   "execution_count": 74,
   "metadata": {},
   "outputs": [
    {
     "name": "stdout",
     "output_type": "stream",
     "text": [
      "Accuracy: 0.8742\n",
      "Precision: 0.3585\n",
      "Recall: 0.0208\n",
      "F1: 0.0393\n"
     ]
    }
   ],
   "source": [
    "# Печатаем метрики\n",
    "preds = model.predict(X_test)\n",
    "print('Accuracy: %.4f' % accuracy_score(y_test, preds))\n",
    "print('Precision: %.4f' % precision_score(y_test, preds))\n",
    "print('Recall: %.4f' % recall_score(y_test, preds))\n",
    "print('F1: %.4f' % f1_score(y_test, preds))"
   ]
  },
  {
   "cell_type": "code",
   "execution_count": 75,
   "metadata": {},
   "outputs": [
    {
     "data": {
      "text/plain": [
       "<matplotlib.axes._subplots.AxesSubplot at 0x7f5fd2b924f0>"
      ]
     },
     "execution_count": 75,
     "metadata": {},
     "output_type": "execute_result"
    },
    {
     "data": {
      "image/png": "[encoded data removed]",
      "text/plain": [
       "<Figure size 432x288 with 2 Axes>"
      ]
     },
     "metadata": {
      "needs_background": "light"
     },
     "output_type": "display_data"
    }
   ],
   "source": [
    "# Строим график значений предсказаний\n",
    "\n",
    "cf_array = confusion_matrix(y_test, preds)\n",
    "\n",
    "sns.heatmap(cf_array / np.sum(cf_array)\n",
    "            ,annot=True\n",
    "            ,fmt='.1%'\n",
    "            ,cmap='coolwarm')"
   ]
  },
  {
   "cell_type": "markdown",
   "metadata": {},
   "source": [
    "**Вывод**\n",
    "\n",
    "* Accuracy - 87%\n",
    "* Precision - 36%\n",
    "* Recall - 2%\n",
    "* F1 - 4%\n",
    "\n",
    "На данном этапе модель практически не предсказывает неплатёжеспособных клиентов (ошибка 2 рода). "
   ]
  },
  {
   "cell_type": "markdown",
   "metadata": {},
   "source": [
    "---"
   ]
  },
  {
   "cell_type": "markdown",
   "metadata": {},
   "source": [
    "### 7. Регуляризация и переобучение модели с новыми гиперпараметрами"
   ]
  },
  {
   "cell_type": "code",
   "execution_count": 76,
   "metadata": {},
   "outputs": [
    {
     "name": "stdout",
     "output_type": "stream",
     "text": [
      "\tC: 1.0\n",
      "\tclass_weight: 'balanced'\n",
      "\tdual: False\n",
      "\tfit_intercept: True\n",
      "\tintercept_scaling: 1\n",
      "\tl1_ratio: None\n",
      "\tmax_iter: 50\n",
      "\tmulti_class: 'auto'\n",
      "\tn_jobs: None\n",
      "\tpenalty: 'l2'\n",
      "\trandom_state: 42\n",
      "\tsolver: 'saga'\n",
      "\ttol: 0.001\n",
      "\tverbose: 0\n",
      "\twarm_start: False\n",
      "Accuracy: 0.6724\n",
      "Precision: 0.2262\n",
      "Recall: 0.6804\n",
      "F1: 0.3395\n"
     ]
    },
    {
     "name": "stderr",
     "output_type": "stream",
     "text": [
      "/home/akira/anaconda3/lib/python3.8/site-packages/sklearn/linear_model/_sag.py:329: ConvergenceWarning: The max_iter was reached which means the coef_ did not converge\n",
      "  warnings.warn(\"The max_iter was reached which means \"\n"
     ]
    }
   ],
   "source": [
    "# Запускаем GridSearch на небольшом кол-ве итераций max_iter=50 и с достаточно большой дельтой\n",
    "# останова (tol = 1e-3), чтобы получить оптимальные параметры модели в первом приближении\n",
    "# Код поиска позаимствован модели А. Соколова и А. Голобокова / слака\n",
    "\n",
    "model = LogisticRegression(random_state=42)\n",
    "iter_ = 50\n",
    "epsilon_stop = 1e-3\n",
    "param_grid = [\n",
    "    {'penalty': ['l1'], \n",
    "     'solver': ['liblinear', 'lbfgs'], \n",
    "     'class_weight':['none', 'balanced'], \n",
    "     'multi_class': ['auto','ovr'], \n",
    "     'max_iter':[iter_],\n",
    "     'tol':[epsilon_stop]},\n",
    "    {'penalty': ['l2'], \n",
    "     'solver': ['newton-cg', 'lbfgs', 'liblinear', 'sag', 'saga'], \n",
    "     'class_weight':['none', 'balanced'], \n",
    "     'multi_class': ['auto','ovr'], \n",
    "     'max_iter':[iter_],\n",
    "     'tol':[epsilon_stop]},\n",
    "    {'penalty': ['none'], \n",
    "     'solver': ['newton-cg', 'lbfgs', 'sag', 'saga'], \n",
    "     'class_weight':['none', 'balanced'], \n",
    "     'multi_class': ['auto','ovr'], \n",
    "     'max_iter':[iter_],\n",
    "     'tol':[epsilon_stop]},\n",
    "]\n",
    "\n",
    "gridsearch = GridSearchCV(model, param_grid, scoring='f1', n_jobs=-1, cv=5)\n",
    "gridsearch.fit(X_train, y_train)\n",
    "model = gridsearch.best_estimator_\n",
    "\n",
    "\n",
    "# Печатаем параметры\n",
    "best_parameters = model.get_params()\n",
    "\n",
    "for param_name in sorted(best_parameters.keys()):\n",
    "    print('\\t%s: %r' % (param_name, best_parameters[param_name]))\n",
    "\n",
    "\n",
    "# Печатаем метрики\n",
    "preds = model.predict(X_test)\n",
    "print('Accuracy: %.4f' % accuracy_score(y_test, preds))\n",
    "print('Precision: %.4f' % precision_score(y_test, preds))\n",
    "print('Recall: %.4f' % recall_score(y_test, preds))\n",
    "print('F1: %.4f' % f1_score(y_test, preds))"
   ]
  },
  {
   "cell_type": "code",
   "execution_count": 77,
   "metadata": {},
   "outputs": [
    {
     "data": {
      "text/plain": [
       "<matplotlib.axes._subplots.AxesSubplot at 0x7f5fcc04f8b0>"
      ]
     },
     "execution_count": 77,
     "metadata": {},
     "output_type": "execute_result"
    },
    {
     "data": {
      "image/png": "[encoded data removed]",
      "text/plain": [
       "<Figure size 432x288 with 2 Axes>"
      ]
     },
     "metadata": {
      "needs_background": "light"
     },
     "output_type": "display_data"
    }
   ],
   "source": [
    "# Строим график значений предсказаний\n",
    "\n",
    "cf_array = confusion_matrix(y_test, preds)\n",
    "\n",
    "sns.heatmap(cf_array / np.sum(cf_array)\n",
    "            ,annot=True\n",
    "            ,fmt='.1%'\n",
    "            ,cmap='coolwarm')"
   ]
  },
  {
   "cell_type": "markdown",
   "metadata": {},
   "source": [
    "**Вывод**\n",
    "\n",
    "* Accuracy - 67%\n",
    "* Precision - 23%\n",
    "* Recall - 68%\n",
    "* F1 - 34%\n",
    "\n",
    "Хоть оценка точности и упала по сравнению с первой пробой, существенно возросли полнота (recall) и F1."
   ]
  },
  {
   "cell_type": "markdown",
   "metadata": {},
   "source": [
    "#### Переобучаем модель с новыми параметрами"
   ]
  },
  {
   "cell_type": "code",
   "execution_count": 78,
   "metadata": {},
   "outputs": [
    {
     "data": {
      "text/plain": [
       "LogisticRegression(class_weight='balanced', max_iter=1000, penalty='none',\n",
       "                   random_state=42, solver='newton-cg')"
      ]
     },
     "execution_count": 78,
     "metadata": {},
     "output_type": "execute_result"
    }
   ],
   "source": [
    "model = LogisticRegression(  random_state=RANDOM_SEED\n",
    "                            ,C=1.0\n",
    "                            ,class_weight='balanced'\n",
    "                            ,dual=False\n",
    "                            ,fit_intercept=True\n",
    "                            ,intercept_scaling=1\n",
    "                            ,l1_ratio=None\n",
    "                            ,max_iter=1000\n",
    "                            ,multi_class='auto'\n",
    "                            ,n_jobs=None\n",
    "                            ,penalty='none'\n",
    "                            ,solver='newton-cg'\n",
    "                            ,verbose=0\n",
    "                            ,warm_start=False\n",
    ")\n",
    "\n",
    "model.fit(X_train, y_train)"
   ]
  },
  {
   "cell_type": "markdown",
   "metadata": {},
   "source": [
    "#### Проверяем качество переобученной модели"
   ]
  },
  {
   "cell_type": "code",
   "execution_count": 79,
   "metadata": {},
   "outputs": [
    {
     "data": {
      "image/png": "[encoded data removed]",
      "text/plain": [
       "<Figure size 432x288 with 1 Axes>"
      ]
     },
     "metadata": {
      "needs_background": "light"
     },
     "output_type": "display_data"
    }
   ],
   "source": [
    "probs = model.predict_proba(X_test)\n",
    "probs = probs[:,1]\n",
    "\n",
    "fpr, tpr, threshold = roc_curve(y_test, probs)\n",
    "roc_auc = roc_auc_score(y_test, probs)\n",
    "\n",
    "plt.figure()\n",
    "plt.plot([0, 1], label='Baseline', linestyle='--')\n",
    "plt.plot(fpr, tpr, label='Regression')\n",
    "plt.title('Logistic Regression ROC AUC = %0.3f' % roc_auc)\n",
    "plt.ylabel('True Positive Rate')\n",
    "plt.xlabel('False Positive Rate')\n",
    "plt.legend(loc='lower right')\n",
    "plt.show()"
   ]
  },
  {
   "cell_type": "markdown",
   "metadata": {},
   "source": [
    "---"
   ]
  },
  {
   "cell_type": "markdown",
   "metadata": {},
   "source": [
    "### 8. Предсказания на проверочных данных"
   ]
  },
  {
   "cell_type": "code",
   "execution_count": 80,
   "metadata": {},
   "outputs": [],
   "source": [
    "X_test = test_data.drop(['client_id', 'default'], axis=1)\n",
    "\n",
    "y_pred_prob = model.predict_proba(X_test)[:,1]"
   ]
  },
  {
   "cell_type": "code",
   "execution_count": 81,
   "metadata": {},
   "outputs": [],
   "source": [
    "submission = pd.DataFrame(test_data['client_id'])\n",
    "\n",
    "submission['default'] = y_pred_prob\n",
    "                           \n",
    "submission.to_csv('submission.csv', index=False)"
   ]
  },
  {
   "cell_type": "markdown",
   "metadata": {},
   "source": [
    "---"
   ]
  },
  {
   "cell_type": "markdown",
   "metadata": {},
   "source": [
    "### 9. Итоги проекта"
   ]
  },
  {
   "cell_type": "markdown",
   "metadata": {},
   "source": [
    "Получилось создать модель с целевым показателем **ROC AUC = 0.742** по б*о*льшей части в течение 2 дней хакатона (заготовки были, но многое пришлось доделывать / переделывать).\n",
    "\n",
    "Не успел, но хотел ещё сделать рассчёт прибыльности, т.е. найти оптимальную границу предсказания дефолта, при которой достигается максимальная прибыль с учётом \"промахов\" модели."
   ]
  },
  {
   "cell_type": "code",
   "execution_count": null,
   "metadata": {},
   "outputs": [],
   "source": []
  }
 ],
 "metadata": {
  "kernelspec": {
   "display_name": "Python 3",
   "language": "python",
   "name": "python3"
  },
  "language_info": {
   "codemirror_mode": {
    "name": "ipython",
    "version": 3
   },
   "file_extension": ".py",
   "mimetype": "text/x-python",
   "name": "python",
   "nbconvert_exporter": "python",
   "pygments_lexer": "ipython3",
   "version": "3.8.1"
  }
 },
 "nbformat": 4,
 "nbformat_minor": 4
}
