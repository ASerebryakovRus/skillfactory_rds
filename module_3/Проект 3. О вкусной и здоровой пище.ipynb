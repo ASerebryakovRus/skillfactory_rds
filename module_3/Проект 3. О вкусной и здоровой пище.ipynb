{
 "cells": [
  {
   "cell_type": "markdown",
   "metadata": {},
   "source": [
    "![](https://ucarecdn.com/c2edd03c-3664-472b-84f1-1afe67c5bfd3/-/format/jpeg/-/progressive/yes/-/preview/2048x2048/)\n",
    "\n",
    "## Проект 3. О вкусной и здоровой пище"
   ]
  },
  {
   "cell_type": "markdown",
   "metadata": {},
   "source": [
    "**Цель проекта**: обнаружить потенциальные накрутки рейтинга ресторанов.\n",
    "\n",
    "**Данные**: выборка по 40 тыс. ресторанов Европы из датасета TripAdvisor.\n",
    "\n",
    "**Содержание датасета**:\n",
    " * Restaurant_id — идентификационный номер ресторана / сети ресторанов;\n",
    " * City — город, в котором находится ресторан;\n",
    " * Cuisine Style — кухня или кухни, к которым можно отнести блюда, предлагаемые в ресторане;\n",
    " * Ranking — место, которое занимает данный ресторан среди всех ресторанов своего города;\n",
    " * <span style=\"color:red\">Rating — рейтинг ресторана по данным TripAdvisor (именно это значение должна будет предсказывать модель);</span>\n",
    " * Price Range — диапазон цен в ресторане;\n",
    " * Number of Reviews — количество отзывов о ресторане;\n",
    " * Reviews — данные о двух отзывах, которые отображаются на сайте ресторана;\n",
    " * URL_TA — URL страницы ресторана на TripAdvosor;\n",
    " * ID_TA — идентификатор ресторана в базе данных TripAdvisor.\n",
    " \n",
    "Целевая переменная: Rating"
   ]
  },
  {
   "cell_type": "code",
   "execution_count": 1,
   "metadata": {},
   "outputs": [],
   "source": [
    "# Подгружаем библиотеки + определяем ф-ию, с помощью которой мы будем распознавать списки в csv\n",
    "\n",
    "import pandas as pd\n",
    "import numpy as np\n",
    "import seaborn as sns\n",
    "import matplotlib.pyplot as plt\n",
    "%matplotlib inline\n",
    "\n",
    "from ast import literal_eval\n",
    "from sklearn.preprocessing import MultiLabelBinarizer\n",
    "\n",
    "# round to two decimal places in python pandas \n",
    "pd.options.display.float_format = '{:.2f}'.format\n",
    "\n",
    "\n",
    "def literal_converter(val):\n",
    "    '''\n",
    "    Переводим строковые столбцы, содержащие списки в python-списки.\n",
    "    В случае пропуска, возвращает пустое значение.\n",
    "    '''\n",
    "    try:\n",
    "        return literal_eval(val)\n",
    "    except:\n",
    "        return val\n",
    "    \n",
    "\n",
    "df_train = pd.read_csv('main_task.csv', converters={'Cuisine Style': literal_converter, 'Reviews': literal_converter})\n",
    "df_train['sample'] = 1\n",
    "\n",
    "df_test  = pd.read_csv('kaggle_task.csv', converters={'Cuisine Style': literal_converter, 'Reviews': literal_converter})\n",
    "df_test['sample'] = 0\n",
    "\n",
    "df = df_test.append(df_train, sort=False).reset_index(drop=True) # объединяем"
   ]
  },
  {
   "cell_type": "code",
   "execution_count": 2,
   "metadata": {},
   "outputs": [],
   "source": [
    "# всегда фиксируйте RANDOM_SEED, чтобы ваши эксперименты были воспроизводимы!\n",
    "RANDOM_SEED = 42\n",
    "\n",
    "# зафиксируем версию пакетов, чтобы эксперименты были воспроизводимы:\n",
    "!pip freeze > requirements.txt"
   ]
  },
  {
   "cell_type": "markdown",
   "metadata": {},
   "source": [
    "---"
   ]
  },
  {
   "cell_type": "markdown",
   "metadata": {},
   "source": [
    "### Первичный анализ датасета"
   ]
  },
  {
   "cell_type": "code",
   "execution_count": 3,
   "metadata": {},
   "outputs": [
    {
     "data": {
      "text/html": [
       "<div>\n",
       "<style scoped>\n",
       "    .dataframe tbody tr th:only-of-type {\n",
       "        vertical-align: middle;\n",
       "    }\n",
       "\n",
       "    .dataframe tbody tr th {\n",
       "        vertical-align: top;\n",
       "    }\n",
       "\n",
       "    .dataframe thead th {\n",
       "        text-align: right;\n",
       "    }\n",
       "</style>\n",
       "<table border=\"1\" class=\"dataframe\">\n",
       "  <thead>\n",
       "    <tr style=\"text-align: right;\">\n",
       "      <th></th>\n",
       "      <th>Restaurant_id</th>\n",
       "      <th>City</th>\n",
       "      <th>Cuisine Style</th>\n",
       "      <th>Ranking</th>\n",
       "      <th>Price Range</th>\n",
       "      <th>Number of Reviews</th>\n",
       "      <th>Reviews</th>\n",
       "      <th>URL_TA</th>\n",
       "      <th>ID_TA</th>\n",
       "      <th>sample</th>\n",
       "      <th>Rating</th>\n",
       "    </tr>\n",
       "  </thead>\n",
       "  <tbody>\n",
       "    <tr>\n",
       "      <th>49479</th>\n",
       "      <td>id_2746</td>\n",
       "      <td>Amsterdam</td>\n",
       "      <td>[Spanish]</td>\n",
       "      <td>2753.00</td>\n",
       "      <td>NaN</td>\n",
       "      <td>2.00</td>\n",
       "      <td>[[Unexpected Find], [05/25/2014]]</td>\n",
       "      <td>/Restaurant_Review-g188590-d6440857-Reviews-El...</td>\n",
       "      <td>d6440857</td>\n",
       "      <td>1</td>\n",
       "      <td>4.00</td>\n",
       "    </tr>\n",
       "    <tr>\n",
       "      <th>39469</th>\n",
       "      <td>id_2597</td>\n",
       "      <td>Berlin</td>\n",
       "      <td>[Italian, Pizza, European, Mediterranean, Vege...</td>\n",
       "      <td>2599.00</td>\n",
       "      <td>$$ - $$$</td>\n",
       "      <td>48.00</td>\n",
       "      <td>[[One of the best Neapolitan Pizza, Great spot...</td>\n",
       "      <td>/Restaurant_Review-g187323-d8457398-Reviews-Mo...</td>\n",
       "      <td>d8457398</td>\n",
       "      <td>1</td>\n",
       "      <td>4.00</td>\n",
       "    </tr>\n",
       "    <tr>\n",
       "      <th>36599</th>\n",
       "      <td>id_4372</td>\n",
       "      <td>Berlin</td>\n",
       "      <td></td>\n",
       "      <td>4374.00</td>\n",
       "      <td>NaN</td>\n",
       "      <td>4.00</td>\n",
       "      <td>[[Turkish Cuisine At Its Best, Get my own beer...</td>\n",
       "      <td>/Restaurant_Review-g187323-d5528029-Reviews-Pa...</td>\n",
       "      <td>d5528029</td>\n",
       "      <td>1</td>\n",
       "      <td>4.50</td>\n",
       "    </tr>\n",
       "    <tr>\n",
       "      <th>1461</th>\n",
       "      <td>id_1461</td>\n",
       "      <td>Oporto</td>\n",
       "      <td>[Mediterranean, European, Portuguese]</td>\n",
       "      <td>624.00</td>\n",
       "      <td>$$ - $$$</td>\n",
       "      <td>54.00</td>\n",
       "      <td>[[Bonito, agradável, boa cozinha , great res.....</td>\n",
       "      <td>/Restaurant_Review-g189180-d8734320-Reviews-Ka...</td>\n",
       "      <td>d8734320</td>\n",
       "      <td>0</td>\n",
       "      <td>nan</td>\n",
       "    </tr>\n",
       "    <tr>\n",
       "      <th>25890</th>\n",
       "      <td>id_12569</td>\n",
       "      <td>Paris</td>\n",
       "      <td>[French]</td>\n",
       "      <td>12571.00</td>\n",
       "      <td>$$ - $$$</td>\n",
       "      <td>25.00</td>\n",
       "      <td>[[Awesome vibe!, We enjoyed our lunch here], [...</td>\n",
       "      <td>/Restaurant_Review-g187147-d6416993-Reviews-Co...</td>\n",
       "      <td>d6416993</td>\n",
       "      <td>1</td>\n",
       "      <td>2.50</td>\n",
       "    </tr>\n",
       "    <tr>\n",
       "      <th>24181</th>\n",
       "      <td>id_745</td>\n",
       "      <td>Rome</td>\n",
       "      <td>[Italian, Gluten Free Options]</td>\n",
       "      <td>746.00</td>\n",
       "      <td>NaN</td>\n",
       "      <td>1441.00</td>\n",
       "      <td>[[Great lively fish restaurant, Lively restaur...</td>\n",
       "      <td>/Restaurant_Review-g187791-d6419637-Reviews-Po...</td>\n",
       "      <td>d6419637</td>\n",
       "      <td>1</td>\n",
       "      <td>4.00</td>\n",
       "    </tr>\n",
       "    <tr>\n",
       "      <th>41697</th>\n",
       "      <td>id_2015</td>\n",
       "      <td>Milan</td>\n",
       "      <td>[Italian, Steakhouse, Barbecue, European, Fusi...</td>\n",
       "      <td>2017.00</td>\n",
       "      <td>$$ - $$$</td>\n",
       "      <td>1154.00</td>\n",
       "      <td>[[very interesting, Delicate meat], [06/22/201...</td>\n",
       "      <td>/Restaurant_Review-g187849-d8820594-Reviews-La...</td>\n",
       "      <td>d8820594</td>\n",
       "      <td>1</td>\n",
       "      <td>3.50</td>\n",
       "    </tr>\n",
       "    <tr>\n",
       "      <th>47617</th>\n",
       "      <td>id_333</td>\n",
       "      <td>Dublin</td>\n",
       "      <td>[Irish, Bar, European, Vegetarian Friendly, Ve...</td>\n",
       "      <td>334.00</td>\n",
       "      <td>$$ - $$$</td>\n",
       "      <td>250.00</td>\n",
       "      <td>[[Friendly barman, Really nice hidden gem in D...</td>\n",
       "      <td>/Restaurant_Review-g186605-d4909573-Reviews-Ho...</td>\n",
       "      <td>d4909573</td>\n",
       "      <td>1</td>\n",
       "      <td>4.00</td>\n",
       "    </tr>\n",
       "    <tr>\n",
       "      <th>12084</th>\n",
       "      <td>id_5874</td>\n",
       "      <td>Barcelona</td>\n",
       "      <td>[International, Mediterranean, Spanish]</td>\n",
       "      <td>5875.00</td>\n",
       "      <td>$$ - $$$</td>\n",
       "      <td>nan</td>\n",
       "      <td>[[], []]</td>\n",
       "      <td>/Restaurant_Review-g187497-d12554634-Reviews-G...</td>\n",
       "      <td>d12554634</td>\n",
       "      <td>1</td>\n",
       "      <td>4.00</td>\n",
       "    </tr>\n",
       "    <tr>\n",
       "      <th>2014</th>\n",
       "      <td>id_2014</td>\n",
       "      <td>Hamburg</td>\n",
       "      <td>[Swiss, European]</td>\n",
       "      <td>791.00</td>\n",
       "      <td>NaN</td>\n",
       "      <td>9.00</td>\n",
       "      <td>[[A great invention - Macaron ice cream!, OMG ...</td>\n",
       "      <td>/Restaurant_Review-g187331-d8741635-Reviews-Jo...</td>\n",
       "      <td>d8741635</td>\n",
       "      <td>0</td>\n",
       "      <td>nan</td>\n",
       "    </tr>\n",
       "  </tbody>\n",
       "</table>\n",
       "</div>"
      ],
      "text/plain": [
       "      Restaurant_id       City  \\\n",
       "49479       id_2746  Amsterdam   \n",
       "39469       id_2597     Berlin   \n",
       "36599       id_4372     Berlin   \n",
       "1461        id_1461     Oporto   \n",
       "25890      id_12569      Paris   \n",
       "24181        id_745       Rome   \n",
       "41697       id_2015      Milan   \n",
       "47617        id_333     Dublin   \n",
       "12084       id_5874  Barcelona   \n",
       "2014        id_2014    Hamburg   \n",
       "\n",
       "                                           Cuisine Style  Ranking Price Range  \\\n",
       "49479                                          [Spanish]  2753.00         NaN   \n",
       "39469  [Italian, Pizza, European, Mediterranean, Vege...  2599.00    $$ - $$$   \n",
       "36599                                                     4374.00         NaN   \n",
       "1461               [Mediterranean, European, Portuguese]   624.00    $$ - $$$   \n",
       "25890                                           [French] 12571.00    $$ - $$$   \n",
       "24181                     [Italian, Gluten Free Options]   746.00         NaN   \n",
       "41697  [Italian, Steakhouse, Barbecue, European, Fusi...  2017.00    $$ - $$$   \n",
       "47617  [Irish, Bar, European, Vegetarian Friendly, Ve...   334.00    $$ - $$$   \n",
       "12084            [International, Mediterranean, Spanish]  5875.00    $$ - $$$   \n",
       "2014                                   [Swiss, European]   791.00         NaN   \n",
       "\n",
       "       Number of Reviews                                            Reviews  \\\n",
       "49479               2.00                  [[Unexpected Find], [05/25/2014]]   \n",
       "39469              48.00  [[One of the best Neapolitan Pizza, Great spot...   \n",
       "36599               4.00  [[Turkish Cuisine At Its Best, Get my own beer...   \n",
       "1461               54.00  [[Bonito, agradável, boa cozinha , great res.....   \n",
       "25890              25.00  [[Awesome vibe!, We enjoyed our lunch here], [...   \n",
       "24181            1441.00  [[Great lively fish restaurant, Lively restaur...   \n",
       "41697            1154.00  [[very interesting, Delicate meat], [06/22/201...   \n",
       "47617             250.00  [[Friendly barman, Really nice hidden gem in D...   \n",
       "12084                nan                                           [[], []]   \n",
       "2014                9.00  [[A great invention - Macaron ice cream!, OMG ...   \n",
       "\n",
       "                                                  URL_TA      ID_TA  sample  \\\n",
       "49479  /Restaurant_Review-g188590-d6440857-Reviews-El...   d6440857       1   \n",
       "39469  /Restaurant_Review-g187323-d8457398-Reviews-Mo...   d8457398       1   \n",
       "36599  /Restaurant_Review-g187323-d5528029-Reviews-Pa...   d5528029       1   \n",
       "1461   /Restaurant_Review-g189180-d8734320-Reviews-Ka...   d8734320       0   \n",
       "25890  /Restaurant_Review-g187147-d6416993-Reviews-Co...   d6416993       1   \n",
       "24181  /Restaurant_Review-g187791-d6419637-Reviews-Po...   d6419637       1   \n",
       "41697  /Restaurant_Review-g187849-d8820594-Reviews-La...   d8820594       1   \n",
       "47617  /Restaurant_Review-g186605-d4909573-Reviews-Ho...   d4909573       1   \n",
       "12084  /Restaurant_Review-g187497-d12554634-Reviews-G...  d12554634       1   \n",
       "2014   /Restaurant_Review-g187331-d8741635-Reviews-Jo...   d8741635       0   \n",
       "\n",
       "       Rating  \n",
       "49479    4.00  \n",
       "39469    4.00  \n",
       "36599    4.50  \n",
       "1461      nan  \n",
       "25890    2.50  \n",
       "24181    4.00  \n",
       "41697    3.50  \n",
       "47617    4.00  \n",
       "12084    4.00  \n",
       "2014      nan  "
      ]
     },
     "execution_count": 3,
     "metadata": {},
     "output_type": "execute_result"
    }
   ],
   "source": [
    "# Выборка 10 строк\n",
    "\n",
    "df.sample(10)"
   ]
  },
  {
   "cell_type": "code",
   "execution_count": 4,
   "metadata": {},
   "outputs": [
    {
     "data": {
      "text/plain": [
       "'Кол-во пустых значений в датасете: 5.56%'"
      ]
     },
     "execution_count": 4,
     "metadata": {},
     "output_type": "execute_result"
    }
   ],
   "source": [
    "f'Кол-во пустых значений в датасете: \\\n",
    "{round(sum(df.isnull().sum()) / (len(df.columns) * len(df)) * 100, 2)}%'"
   ]
  },
  {
   "cell_type": "code",
   "execution_count": 5,
   "metadata": {},
   "outputs": [
    {
     "data": {
      "text/plain": [
       "Restaurant_id            0\n",
       "City                     0\n",
       "Cuisine Style            0\n",
       "Ranking                  0\n",
       "Price Range          17361\n",
       "Number of Reviews     3200\n",
       "Reviews                  0\n",
       "URL_TA                   0\n",
       "ID_TA                    0\n",
       "sample                   0\n",
       "Rating               10000\n",
       "dtype: int64"
      ]
     },
     "execution_count": 5,
     "metadata": {},
     "output_type": "execute_result"
    }
   ],
   "source": [
    "# 2.1 Какие столбцы НЕ содержат пропущенных (None) значений\n",
    "\n",
    "df.isna().sum()"
   ]
  },
  {
   "cell_type": "code",
   "execution_count": 6,
   "metadata": {},
   "outputs": [
    {
     "data": {
      "text/plain": [
       "'Кол-во повторяющихся строк в датасете: 37'"
      ]
     },
     "metadata": {},
     "output_type": "display_data"
    }
   ],
   "source": [
    "# Ищем повторяющиеся записи ресторанов - в кач-ве идентификатора исп. веб-адрес и идентификатор ТА ресторана\n",
    "# Удаляем найденные дубликаты, оставляя первую запись\n",
    "\n",
    "display(f\"Кол-во повторяющихся строк в датасете: {df.duplicated(subset=['URL_TA', 'ID_TA'], keep='first').sum()}\")\n",
    "\n",
    "df.drop_duplicates(subset=['URL_TA', 'ID_TA'], keep='first', inplace=True, ignore_index=True)"
   ]
  },
  {
   "cell_type": "code",
   "execution_count": 7,
   "metadata": {},
   "outputs": [
    {
     "name": "stdout",
     "output_type": "stream",
     "text": [
      "<class 'pandas.core.frame.DataFrame'>\n",
      "RangeIndex: 49963 entries, 0 to 49962\n",
      "Data columns (total 11 columns):\n",
      " #   Column             Non-Null Count  Dtype  \n",
      "---  ------             --------------  -----  \n",
      " 0   Restaurant_id      49963 non-null  object \n",
      " 1   City               49963 non-null  object \n",
      " 2   Cuisine Style      49963 non-null  object \n",
      " 3   Ranking            49963 non-null  float64\n",
      " 4   Price Range        32612 non-null  object \n",
      " 5   Number of Reviews  46763 non-null  float64\n",
      " 6   Reviews            49963 non-null  object \n",
      " 7   URL_TA             49963 non-null  object \n",
      " 8   ID_TA              49963 non-null  object \n",
      " 9   sample             49963 non-null  int64  \n",
      " 10  Rating             39963 non-null  float64\n",
      "dtypes: float64(3), int64(1), object(7)\n",
      "memory usage: 4.2+ MB\n"
     ]
    }
   ],
   "source": [
    "# 2.2 В каких столбцах данные хранятся в числовом формате\n",
    "\n",
    "df.info()"
   ]
  },
  {
   "cell_type": "markdown",
   "metadata": {},
   "source": [
    "---"
   ]
  },
  {
   "cell_type": "markdown",
   "metadata": {},
   "source": [
    "### Обрабатываем признаки датасета"
   ]
  },
  {
   "cell_type": "code",
   "execution_count": 8,
   "metadata": {},
   "outputs": [
    {
     "data": {
      "text/plain": [
       "2.6"
      ]
     },
     "metadata": {},
     "output_type": "display_data"
    }
   ],
   "source": [
    "# 4.3 Среднее кол-во кухонь в ресторане (если данных нет - предполагаем, что одна)\n",
    "\n",
    "df['Cuisine Style_len'] = df['Cuisine Style'].apply(lambda x: len(x) if isinstance(x, list) else 1)\n",
    "\n",
    "display(round(df['Cuisine Style_len'].mean(), 1))"
   ]
  },
  {
   "cell_type": "code",
   "execution_count": 9,
   "metadata": {
    "scrolled": true
   },
   "outputs": [
    {
     "data": {
      "text/plain": [
       "{'Afghani',\n",
       " 'African',\n",
       " 'Albanian',\n",
       " 'American',\n",
       " 'Arabic',\n",
       " 'Argentinean',\n",
       " 'Armenian',\n",
       " 'Asian',\n",
       " 'Australian',\n",
       " 'Austrian',\n",
       " 'Azerbaijani',\n",
       " 'Balti',\n",
       " 'Bangladeshi',\n",
       " 'Bar',\n",
       " 'Barbecue',\n",
       " 'Belgian',\n",
       " 'Brazilian',\n",
       " 'Brew Pub',\n",
       " 'British',\n",
       " 'Burmese',\n",
       " 'Cafe',\n",
       " 'Cajun & Creole',\n",
       " 'Cambodian',\n",
       " 'Canadian',\n",
       " 'Caribbean',\n",
       " 'Caucasian',\n",
       " 'Central American',\n",
       " 'Central Asian',\n",
       " 'Central European',\n",
       " 'Chilean',\n",
       " 'Chinese',\n",
       " 'Colombian',\n",
       " 'Contemporary',\n",
       " 'Croatian',\n",
       " 'Cuban',\n",
       " 'Czech',\n",
       " 'Danish',\n",
       " 'Delicatessen',\n",
       " 'Diner',\n",
       " 'Dutch',\n",
       " 'Eastern European',\n",
       " 'Ecuadorean',\n",
       " 'Egyptian',\n",
       " 'Ethiopian',\n",
       " 'European',\n",
       " 'Fast Food',\n",
       " 'Filipino',\n",
       " 'French',\n",
       " 'Fujian',\n",
       " 'Fusion',\n",
       " 'Gastropub',\n",
       " 'Georgian',\n",
       " 'German',\n",
       " 'Gluten Free Options',\n",
       " 'Greek',\n",
       " 'Grill',\n",
       " 'Halal',\n",
       " 'Hawaiian',\n",
       " 'Healthy',\n",
       " 'Hungarian',\n",
       " 'Indian',\n",
       " 'Indonesian',\n",
       " 'International',\n",
       " 'Irish',\n",
       " 'Israeli',\n",
       " 'Italian',\n",
       " 'Jamaican',\n",
       " 'Japanese',\n",
       " 'Korean',\n",
       " 'Kosher',\n",
       " 'Latin',\n",
       " 'Latvian',\n",
       " 'Lebanese',\n",
       " 'Malaysian',\n",
       " 'Mediterranean',\n",
       " 'Mexican',\n",
       " 'Middle Eastern',\n",
       " 'Minority Chinese',\n",
       " 'Mongolian',\n",
       " 'Moroccan',\n",
       " 'Native American',\n",
       " 'Nepali',\n",
       " 'New Zealand',\n",
       " 'Norwegian',\n",
       " 'Pakistani',\n",
       " 'Persian',\n",
       " 'Peruvian',\n",
       " 'Pizza',\n",
       " 'Polish',\n",
       " 'Polynesian',\n",
       " 'Portuguese',\n",
       " 'Pub',\n",
       " 'Romanian',\n",
       " 'Russian',\n",
       " 'Salvadoran',\n",
       " 'Scandinavian',\n",
       " 'Scottish',\n",
       " 'Seafood',\n",
       " 'Singaporean',\n",
       " 'Slovenian',\n",
       " 'Soups',\n",
       " 'South American',\n",
       " 'Southwestern',\n",
       " 'Spanish',\n",
       " 'Sri Lankan',\n",
       " 'Steakhouse',\n",
       " 'Street Food',\n",
       " 'Sushi',\n",
       " 'Swedish',\n",
       " 'Swiss',\n",
       " 'Taiwanese',\n",
       " 'Thai',\n",
       " 'Tibetan',\n",
       " 'Tunisian',\n",
       " 'Turkish',\n",
       " 'Ukrainian',\n",
       " 'Uzbek',\n",
       " 'Vegan Options',\n",
       " 'Vegetarian Friendly',\n",
       " 'Venezuelan',\n",
       " 'Vietnamese',\n",
       " 'Welsh',\n",
       " 'Wine Bar',\n",
       " 'Xinjiang',\n",
       " 'Yunnan'}"
      ]
     },
     "metadata": {},
     "output_type": "display_data"
    },
    {
     "data": {
      "text/plain": [
       "125"
      ]
     },
     "metadata": {},
     "output_type": "display_data"
    }
   ],
   "source": [
    "# Создаём отдельное множество значений с типами кухни\n",
    "\n",
    "cuisines = set()\n",
    "\n",
    "for c_list in df['Cuisine Style'][~pd.isna(df['Cuisine Style'])]:\n",
    "    for c in c_list:\n",
    "        cuisines.add(c)\n",
    "\n",
    "no_cuisines = len(cuisines)        \n",
    "\n",
    "display(cuisines, no_cuisines)"
   ]
  },
  {
   "cell_type": "code",
   "execution_count": 10,
   "metadata": {},
   "outputs": [],
   "source": [
    "# Создаём из списков Cuisine Style признаки-пустышки\n",
    "# https://ru.stackoverflow.com/questions/928443/Как-работает-sklearn-preprocessing-multilabelbinarizer\n",
    "\n",
    "mlb = MultiLabelBinarizer()\n",
    "\n",
    "df = df.join(pd.DataFrame(mlb.fit_transform(df['Cuisine Style'].values), index=df.index, columns=mlb.classes_))"
   ]
  },
  {
   "cell_type": "code",
   "execution_count": 11,
   "metadata": {},
   "outputs": [
    {
     "data": {
      "text/plain": [
       "Vegetarian Friendly    14007\n",
       "European               12553\n",
       "Mediterranean           7810\n",
       "Italian                 7430\n",
       "Vegan Options           5677\n",
       "                       ...  \n",
       "Yunnan                     2\n",
       "Salvadoran                 1\n",
       "Latvian                    1\n",
       "Xinjiang                   1\n",
       "Burmese                    1\n",
       "Length: 125, dtype: int64"
      ]
     },
     "execution_count": 11,
     "metadata": {},
     "output_type": "execute_result"
    }
   ],
   "source": [
    "# 4.3 Кухня, представленная в наибольшем количестве ресторанов\n",
    "\n",
    "df.iloc[:, -no_cuisines:].sum().sort_values(ascending=False)"
   ]
  },
  {
   "cell_type": "code",
   "execution_count": 12,
   "metadata": {
    "scrolled": false
   },
   "outputs": [
    {
     "data": {
      "text/plain": [
       "'Кол-во уникальных городов: 31'"
      ]
     },
     "metadata": {},
     "output_type": "display_data"
    },
    {
     "data": {
      "text/plain": [
       "London        7193\n",
       "Paris         6108\n",
       "Madrid        3778\n",
       "Barcelona     3395\n",
       "Berlin        2705\n",
       "Milan         2694\n",
       "Rome          2589\n",
       "Prague        1816\n",
       "Lisbon        1647\n",
       "Vienna        1443\n",
       "Amsterdam     1372\n",
       "Brussels      1314\n",
       "Hamburg       1186\n",
       "Munich        1145\n",
       "Lyon          1126\n",
       "Stockholm     1033\n",
       "Budapest      1021\n",
       "Warsaw         923\n",
       "Dublin         836\n",
       "Copenhagen     819\n",
       "Athens         776\n",
       "Edinburgh      745\n",
       "Zurich         685\n",
       "Oporto         642\n",
       "Geneva         590\n",
       "Krakow         554\n",
       "Oslo           488\n",
       "Helsinki       475\n",
       "Bratislava     380\n",
       "Luxembourg     263\n",
       "Ljubljana      222\n",
       "Name: City, dtype: int64"
      ]
     },
     "execution_count": 12,
     "metadata": {},
     "output_type": "execute_result"
    }
   ],
   "source": [
    "# Смотрим кол-во уникальных городов и нет ли повторов и разных вариантов написания их названий\n",
    "\n",
    "no_cities = len(df['City'].unique())\n",
    "\n",
    "display(f\"Кол-во уникальных городов: {no_cities}\")\n",
    "\n",
    "df['City'].value_counts(ascending=False)"
   ]
  },
  {
   "cell_type": "code",
   "execution_count": 13,
   "metadata": {},
   "outputs": [
    {
     "data": {
      "text/html": [
       "<div>\n",
       "<style scoped>\n",
       "    .dataframe tbody tr th:only-of-type {\n",
       "        vertical-align: middle;\n",
       "    }\n",
       "\n",
       "    .dataframe tbody tr th {\n",
       "        vertical-align: top;\n",
       "    }\n",
       "\n",
       "    .dataframe thead th {\n",
       "        text-align: right;\n",
       "    }\n",
       "</style>\n",
       "<table border=\"1\" class=\"dataframe\">\n",
       "  <thead>\n",
       "    <tr style=\"text-align: right;\">\n",
       "      <th></th>\n",
       "      <th>City</th>\n",
       "      <th>Population</th>\n",
       "    </tr>\n",
       "  </thead>\n",
       "  <tbody>\n",
       "    <tr>\n",
       "      <th>46123</th>\n",
       "      <td>Geneva</td>\n",
       "      <td>201818</td>\n",
       "    </tr>\n",
       "    <tr>\n",
       "      <th>26242</th>\n",
       "      <td>Paris</td>\n",
       "      <td>2241346</td>\n",
       "    </tr>\n",
       "    <tr>\n",
       "      <th>22142</th>\n",
       "      <td>Paris</td>\n",
       "      <td>2241346</td>\n",
       "    </tr>\n",
       "    <tr>\n",
       "      <th>29188</th>\n",
       "      <td>Paris</td>\n",
       "      <td>2241346</td>\n",
       "    </tr>\n",
       "    <tr>\n",
       "      <th>24994</th>\n",
       "      <td>London</td>\n",
       "      <td>8908081</td>\n",
       "    </tr>\n",
       "  </tbody>\n",
       "</table>\n",
       "</div>"
      ],
      "text/plain": [
       "         City  Population\n",
       "46123  Geneva      201818\n",
       "26242   Paris     2241346\n",
       "22142   Paris     2241346\n",
       "29188   Paris     2241346\n",
       "24994  London     8908081"
      ]
     },
     "execution_count": 13,
     "metadata": {},
     "output_type": "execute_result"
    }
   ],
   "source": [
    "# Дополняем население городов (источник: Википедия - минимальное значение населения в городе, без пригородов)\n",
    "\n",
    "population = {\n",
    "            'London': 8908081,\n",
    "            'Paris': 2241346,\n",
    "            'Madrid': 3233527,\n",
    "            'Barcelona': 1620343,\n",
    "            'Berlin': 3748148,\n",
    "            'Milan': 1399860,\n",
    "            'Rome': 2873104,\n",
    "            'Prague': 1241664,\n",
    "            'Lisbon': 505526,\n",
    "            'Vienna': 1749673,\n",
    "            'Amsterdam': 855965,\n",
    "            'Brussels': 148873,\n",
    "            'Hamburg': 1899160,\n",
    "            'Munich': 1484226,\n",
    "            'Lyon': 516092,\n",
    "            'Stockholm': 962154,\n",
    "            'Budapest': 1729040,\n",
    "            'Warsaw': 1711324,\n",
    "            'Dublin': 554554,\n",
    "            'Copenhagen': 794128,\n",
    "            'Athens': 664046,\n",
    "            'Edinburgh': 488050,\n",
    "            'Zurich': 415215,\n",
    "            'Oporto': 287591,\n",
    "            'Geneva': 201818,\n",
    "            'Krakow': 779115,\n",
    "            'Oslo': 645701,\n",
    "            'Helsinki': 635591,\n",
    "            'Bratislava': 432864,\n",
    "            'Luxembourg': 119214,\n",
    "            'Ljubljana': 286745\n",
    "}\n",
    "\n",
    "df['Population'] = df['City'].map(population)\n",
    "\n",
    "df[['City', 'Population']].sample(5)"
   ]
  },
  {
   "cell_type": "code",
   "execution_count": 14,
   "metadata": {},
   "outputs": [],
   "source": [
    "# Делаем признаки-пустышки из признака City\n",
    "\n",
    "df = pd.concat([df, pd.get_dummies(df['City'])], axis=1)"
   ]
  },
  {
   "cell_type": "code",
   "execution_count": 15,
   "metadata": {},
   "outputs": [
    {
     "data": {
      "text/plain": [
       "2.00    23020\n",
       "1.00     7811\n",
       "3.00     1781\n",
       "Name: Price Range, dtype: int64"
      ]
     },
     "execution_count": 15,
     "metadata": {},
     "output_type": "execute_result"
    }
   ],
   "source": [
    "# Price Range - приводим к единому виду и целочисленному типу данных\n",
    "\n",
    "pr = {\n",
    "        '$': 1,\n",
    "        '$$ - $$$': 2,\n",
    "        '$$$$': 3\n",
    "}\n",
    "\n",
    "\n",
    "df['Price Range'] = df['Price Range'].replace(to_replace=pr)\n",
    "\n",
    "df['Price Range'].value_counts(ascending=False)"
   ]
  },
  {
   "cell_type": "code",
   "execution_count": 16,
   "metadata": {},
   "outputs": [
    {
     "data": {
      "text/plain": [
       "0       0.93\n",
       "1       0.09\n",
       "2       0.46\n",
       "3       0.10\n",
       "4       0.04\n",
       "        ... \n",
       "49958   0.08\n",
       "49959   0.45\n",
       "49960   0.67\n",
       "49961   0.30\n",
       "49962   0.77\n",
       "Name: Ranking_norm, Length: 49963, dtype: float64"
      ]
     },
     "execution_count": 16,
     "metadata": {},
     "output_type": "execute_result"
    }
   ],
   "source": [
    "# Ranking - пробуем нормализировать значения в рамках отдельных городов\n",
    "\n",
    "df['Ranking_norm'] = df.groupby(['City'])['Ranking'].apply(lambda x: (x - x.min()) / (x.max() - x.min()))\n",
    "\n",
    "df['Ranking_norm']"
   ]
  },
  {
   "cell_type": "code",
   "execution_count": 17,
   "metadata": {},
   "outputs": [],
   "source": [
    "# Заполняем пропуски Reviews пустыми списками, иначе следующие шаги приводят к ошибкам\n",
    "\n",
    "df['Reviews'] = df['Reviews'].apply(lambda x: x if isinstance(x, list) else [[], []])"
   ]
  },
  {
   "cell_type": "code",
   "execution_count": 18,
   "metadata": {},
   "outputs": [],
   "source": [
    "# Number of Reviews - есть ли пропуски там, где есть Reviews? Если да, то дополняем по кол-ву отзывов\n",
    "# После этого удаляем данный столбец как избыточный (у нас уже есть Number of Reviews)\n",
    "\n",
    "df['Reviews_len'] = df['Reviews'].apply(lambda x: len(x) if isinstance(x[0], list) else 0)\n",
    "\n",
    "df['Number of Reviews'].fillna(df['Reviews_len'], inplace=True)\n",
    "\n",
    "df[['Reviews_len', 'Number of Reviews']]\n",
    "\n",
    "df.drop(['Reviews_len'], axis=1, inplace=True)"
   ]
  },
  {
   "cell_type": "code",
   "execution_count": 19,
   "metadata": {},
   "outputs": [],
   "source": [
    "# Обработка NaN для Number of Reviews - отсутствие информации может быть важным признаком!\n",
    "\n",
    "df['Number of Reviews isNAN'] = pd.isna(df['Number of Reviews']).astype('uint8')\n",
    "\n",
    "\n",
    "# Далее заполняем пропуски 0\n",
    "\n",
    "df['Number of Reviews'].fillna(0, inplace=True)"
   ]
  },
  {
   "cell_type": "code",
   "execution_count": 20,
   "metadata": {},
   "outputs": [],
   "source": [
    "# Конвертируем второй список из Reviews в отдельную колонку с типом datetime\n",
    "# Рассчитываем из неё первую и последнюю дату отзыва и разницу между ними\n",
    "\n",
    "def list_to_dt(str_list):\n",
    "    dt_list = []\n",
    "    try:\n",
    "        for l in str_list:\n",
    "            dt_list.append(pd.to_datetime(l, format='%m/%d/%Y'))\n",
    "        return dt_list\n",
    "    except:\n",
    "        return []\n",
    "    \n",
    "\n",
    "df['Review Dates'] = df['Reviews'].apply(lambda x: list_to_dt(x[1]))\n",
    "\n",
    "df['Review Dates Min'] = df['Review Dates'].apply(lambda x: min(x) if len(x) > 0 else None)\n",
    "\n",
    "df['Review Dates Max'] = df['Review Dates'].apply(lambda x: max(x) if len(x) > 0 else None)\n",
    "\n",
    "df['Review Dates Var'] = (df['Review Dates Max'] - df['Review Dates Min'])\n",
    "\n",
    "df['Review Dates Var'] = df['Review Dates Var'].dt.days"
   ]
  },
  {
   "cell_type": "code",
   "execution_count": 21,
   "metadata": {},
   "outputs": [
    {
     "data": {
      "text/plain": [
       "Timestamp('2018-02-26 00:00:00')"
      ]
     },
     "execution_count": 21,
     "metadata": {},
     "output_type": "execute_result"
    }
   ],
   "source": [
    "# 4.4.a\n",
    "\n",
    "df['Review Dates Max'].max()"
   ]
  },
  {
   "cell_type": "code",
   "execution_count": 22,
   "metadata": {},
   "outputs": [
    {
     "data": {
      "text/plain": [
       "3296.0"
      ]
     },
     "execution_count": 22,
     "metadata": {},
     "output_type": "execute_result"
    }
   ],
   "source": [
    "# 4.4.b\n",
    "\n",
    "df['Review Dates Var'][(df['Review Dates Min'] >= '2000-01-01') & (df['Review Dates Max'] >= '2000-01-01')].max()"
   ]
  },
  {
   "cell_type": "code",
   "execution_count": 23,
   "metadata": {},
   "outputs": [
    {
     "data": {
      "text/plain": [
       "'Best: 330.0, Average: 2905.0, Poor: 119.0'"
      ]
     },
     "execution_count": 23,
     "metadata": {},
     "output_type": "execute_result"
    }
   ],
   "source": [
    "# Попробуем \"выцепить\" из отзывов ключевые слова, описывающие ресторан и построить из низ доп. признаки\n",
    "\n",
    "def match_word(wordlist, reviews):\n",
    "    for word in wordlist:\n",
    "        for review in reviews:\n",
    "            if word in review:\n",
    "                return 1\n",
    "            else:\n",
    "                return 0\n",
    "    \n",
    "\n",
    "reviews_best = ['excellent', 'wonderful', 'fantastic', 'great', 'delicious', 'best', 'nice', 'superb', 'friendly', 'cosy', 'cozy', 'tasty']\n",
    "reviews_avg  = ['good', 'decent', 'not bad', 'average', 'not so good']\n",
    "reviews_poor = ['poor', 'bad', 'worst', 'rip off', 'sucks', 'terrible', 'dirty', 'stink']\n",
    "\n",
    "df['Reviews_best'] = df['Reviews'].apply(lambda x: match_word(reviews_best, x[0]))\n",
    "df['Reviews_avg']  = df['Reviews'].apply(lambda x: match_word(reviews_avg,  x[0]))\n",
    "df['Reviews_poor'] = df['Reviews'].apply(lambda x: match_word(reviews_poor, x[0]))\n",
    "\n",
    "f\"Best: {df['Reviews_best'].sum()}, Average: {df['Reviews_avg'].sum()}, Poor: {df['Reviews_poor'].sum()}\""
   ]
  },
  {
   "cell_type": "markdown",
   "metadata": {},
   "source": [
    "---"
   ]
  },
  {
   "cell_type": "markdown",
   "metadata": {},
   "source": [
    "### Визуальный анализ полученных данных"
   ]
  },
  {
   "cell_type": "code",
   "execution_count": 24,
   "metadata": {},
   "outputs": [],
   "source": [
    "# Отделяем данные для теста\n",
    "\n",
    "train_data = df.query('sample == 1').drop(['sample'], axis=1)\n",
    "\n",
    "test_data = df.query('sample == 0').drop(['sample'], axis=1)"
   ]
  },
  {
   "cell_type": "code",
   "execution_count": 25,
   "metadata": {},
   "outputs": [
    {
     "data": {
      "text/plain": [
       "<matplotlib.axes._subplots.AxesSubplot at 0x7f28829cfb80>"
      ]
     },
     "execution_count": 25,
     "metadata": {},
     "output_type": "execute_result"
    },
    {
     "data": {
      "image/png": "[encoded data removed]",
      "text/plain": [
       "<Figure size 720x504 with 1 Axes>"
      ]
     },
     "metadata": {
      "needs_background": "light"
     },
     "output_type": "display_data"
    }
   ],
   "source": [
    "# Много ресторанов не дотягивают и до 2500 места в своем городе\n",
    "\n",
    "plt.rcParams['figure.figsize'] = (10,7)\n",
    "train_data['Ranking'].hist(bins=100)"
   ]
  },
  {
   "cell_type": "code",
   "execution_count": 26,
   "metadata": {},
   "outputs": [
    {
     "data": {
      "text/plain": [
       "<matplotlib.axes._subplots.AxesSubplot at 0x7f2881d30fa0>"
      ]
     },
     "execution_count": 26,
     "metadata": {},
     "output_type": "execute_result"
    },
    {
     "data": {
      "image/png": "[encoded data removed]",
      "text/plain": [
       "<Figure size 720x504 with 1 Axes>"
      ]
     },
     "metadata": {
      "needs_background": "light"
     },
     "output_type": "display_data"
    }
   ],
   "source": [
    "# Распределение по городам\n",
    "\n",
    "train_data['City'].value_counts(ascending=True).plot(kind='barh')"
   ]
  },
  {
   "cell_type": "code",
   "execution_count": 27,
   "metadata": {},
   "outputs": [
    {
     "data": {
      "text/plain": [
       "<matplotlib.axes._subplots.AxesSubplot at 0x7f2881c3bbe0>"
      ]
     },
     "execution_count": 27,
     "metadata": {},
     "output_type": "execute_result"
    },
    {
     "data": {
      "image/png": "[encoded data removed]",
      "text/plain": [
       "<Figure size 720x504 with 1 Axes>"
      ]
     },
     "metadata": {
      "needs_background": "light"
     },
     "output_type": "display_data"
    }
   ],
   "source": [
    "# Пробное распределение ранга в Лондоне, крупнейшом городе выборки\n",
    "\n",
    "train_data['Ranking'][train_data['City'] =='London'].hist(bins=100)"
   ]
  },
  {
   "cell_type": "code",
   "execution_count": 28,
   "metadata": {},
   "outputs": [
    {
     "data": {
      "image/png": "[encoded data removed]",
      "text/plain": [
       "<Figure size 720x504 with 1 Axes>"
      ]
     },
     "metadata": {
      "needs_background": "light"
     },
     "output_type": "display_data"
    }
   ],
   "source": [
    "# Посмотрим на топ 10 городов\n",
    "\n",
    "for x in (train_data['City'].value_counts())[0:10].index:\n",
    "    train_data['Ranking'][train_data['City'] == x].hist(bins=100)\n",
    "    \n",
    "plt.show()"
   ]
  },
  {
   "cell_type": "code",
   "execution_count": 29,
   "metadata": {},
   "outputs": [
    {
     "data": {
      "text/plain": [
       "<matplotlib.axes._subplots.AxesSubplot at 0x7f2881ae0700>"
      ]
     },
     "execution_count": 29,
     "metadata": {},
     "output_type": "execute_result"
    },
    {
     "data": {
      "image/png": "[encoded data removed]",
      "text/plain": [
       "<Figure size 720x504 with 1 Axes>"
      ]
     },
     "metadata": {
      "needs_background": "light"
     },
     "output_type": "display_data"
    }
   ],
   "source": [
    "# Распределение целевой переменной Rating\n",
    "\n",
    "train_data['Rating'].value_counts(ascending=True).plot(kind='barh')"
   ]
  },
  {
   "cell_type": "code",
   "execution_count": 30,
   "metadata": {
    "scrolled": false
   },
   "outputs": [
    {
     "data": {
      "text/plain": [
       "Rating\n",
       "1.00    AxesSubplot(0.125,0.125;0.775x0.755)\n",
       "1.50    AxesSubplot(0.125,0.125;0.775x0.755)\n",
       "2.00    AxesSubplot(0.125,0.125;0.775x0.755)\n",
       "2.50    AxesSubplot(0.125,0.125;0.775x0.755)\n",
       "3.00    AxesSubplot(0.125,0.125;0.775x0.755)\n",
       "3.50    AxesSubplot(0.125,0.125;0.775x0.755)\n",
       "4.00    AxesSubplot(0.125,0.125;0.775x0.755)\n",
       "4.50    AxesSubplot(0.125,0.125;0.775x0.755)\n",
       "5.00    AxesSubplot(0.125,0.125;0.775x0.755)\n",
       "Name: Ranking, dtype: object"
      ]
     },
     "execution_count": 30,
     "metadata": {},
     "output_type": "execute_result"
    },
    {
     "data": {
      "image/png": "[encoded data removed]",
      "text/plain": [
       "<Figure size 720x504 with 1 Axes>"
      ]
     },
     "metadata": {
      "needs_background": "light"
     },
     "output_type": "display_data"
    }
   ],
   "source": [
    "# Соотношение ранга с рейтингом\n",
    "\n",
    "train_data.groupby(['Rating'])['Ranking'].hist(bins=100)"
   ]
  },
  {
   "cell_type": "code",
   "execution_count": 31,
   "metadata": {},
   "outputs": [
    {
     "data": {
      "text/plain": [
       "<matplotlib.axes._subplots.AxesSubplot at 0x7f28805f6610>"
      ]
     },
     "execution_count": 31,
     "metadata": {},
     "output_type": "execute_result"
    },
    {
     "data": {
      "image/png": "[encoded data removed]",
      "text/plain": [
       "<Figure size 720x504 with 2 Axes>"
      ]
     },
     "metadata": {
      "needs_background": "light"
     },
     "output_type": "display_data"
    }
   ],
   "source": [
    "# Корреляция признаков - из-за обилия колонок-пустышек сначала отфильтруем действительно важные\n",
    "# (с абсолютной корреляцией 0.5 и выше)\n",
    "\n",
    "# Высчитываем абсолютные величины корреляции\n",
    "c = train_data.corr().abs()\n",
    "\n",
    "\n",
    "# Создаём из получившегося датафрейм и переносим данные индекса в столбцы\n",
    "corr_sort = pd.DataFrame(c.unstack().sort_values(kind=\"quicksort\"))\n",
    "\n",
    "corr_sort.columns = ['Correlation']\n",
    "corr_sort['First'] = corr_sort.index.get_level_values(0)\n",
    "corr_sort['Second'] = corr_sort.index.get_level_values(1)\n",
    "\n",
    "corr_sort.reset_index(drop=True, inplace=True)\n",
    "\n",
    "\n",
    "# Убираем корреляцию \"самого с собой\" и оставляем комбинации с абсолютной корреляцией выше 0.5\n",
    "cs = corr_sort[\n",
    "            (corr_sort['First'] != corr_sort['Second']) \n",
    "          & (corr_sort['Correlation'] >= 0.5)\n",
    "]\n",
    "\n",
    "\n",
    "# Строим график самых высококоррелируемых признаков\n",
    "sns.heatmap(cs.pivot(index='First'\n",
    "                    ,columns='Second'\n",
    "                    ,values='Correlation'))"
   ]
  },
  {
   "cell_type": "markdown",
   "metadata": {},
   "source": [
    "---"
   ]
  },
  {
   "cell_type": "markdown",
   "metadata": {},
   "source": [
    "### Финальная подготовка датасетов перед моделированием"
   ]
  },
  {
   "cell_type": "markdown",
   "metadata": {},
   "source": [
    "#### Тренировочный датасет"
   ]
  },
  {
   "cell_type": "code",
   "execution_count": 32,
   "metadata": {},
   "outputs": [
    {
     "name": "stdout",
     "output_type": "stream",
     "text": [
      "<class 'pandas.core.frame.DataFrame'>\n",
      "Int64Index: 39963 entries, 10000 to 49962\n",
      "Columns: 167 entries, Price Range to Reviews_poor\n",
      "dtypes: float64(8), int64(127), uint8(32)\n",
      "memory usage: 42.7 MB\n"
     ]
    },
    {
     "data": {
      "text/plain": [
       "None"
      ]
     },
     "metadata": {},
     "output_type": "display_data"
    }
   ],
   "source": [
    "# Удалим Ranking, чтобы модель воспользовалась нормализированными значениями\n",
    "train_data.drop(['Ranking'], axis=1, inplace=True)\n",
    "\n",
    "# Удаляем из датасета все столбцы типа object (строки и списки) и datetime\n",
    "train_data = train_data.select_dtypes(exclude=['object', 'datetime64'])\n",
    "\n",
    "display(train_data.info())"
   ]
  },
  {
   "cell_type": "code",
   "execution_count": 33,
   "metadata": {},
   "outputs": [
    {
     "data": {
      "text/plain": [
       "Reviews_best         6465\n",
       "Reviews_poor         6465\n",
       "Reviews_avg          6465\n",
       "Review Dates Var     6465\n",
       "Price Range         13876\n",
       "dtype: int64"
      ]
     },
     "metadata": {},
     "output_type": "display_data"
    }
   ],
   "source": [
    "# Смотрим какие колонки содержат пропуски, чтобы их дополнить нулями\n",
    "\n",
    "nan_columns = train_data.isna().sum().sort_values()\n",
    "\n",
    "display(nan_columns[nan_columns > 0])\n",
    "\n",
    "for col in list(nan_columns[nan_columns > 0].index):\n",
    "    train_data[col].fillna(0, inplace=True)"
   ]
  },
  {
   "cell_type": "markdown",
   "metadata": {},
   "source": [
    "#### Проверочный датасет"
   ]
  },
  {
   "cell_type": "code",
   "execution_count": 34,
   "metadata": {},
   "outputs": [
    {
     "name": "stdout",
     "output_type": "stream",
     "text": [
      "<class 'pandas.core.frame.DataFrame'>\n",
      "Int64Index: 10000 entries, 0 to 9999\n",
      "Columns: 166 entries, Price Range to Reviews_poor\n",
      "dtypes: float64(7), int64(127), uint8(32)\n",
      "memory usage: 10.6 MB\n"
     ]
    },
    {
     "data": {
      "text/plain": [
       "None"
      ]
     },
     "metadata": {},
     "output_type": "display_data"
    }
   ],
   "source": [
    "# Удаляем Rating - это предсказываемая величина (также она пуста в данном датасете)\n",
    "# Удалим Ranking, чтобы модель воспользовалась нормализированными значениями\n",
    "test_data.drop(['Rating', 'Ranking'], axis=1, inplace=True)\n",
    "\n",
    "# Сохраняем id ресторанов для выборки\n",
    "test_ids = test_data['Restaurant_id']\n",
    "\n",
    "# Удаляем из датасета все столбцы типа object (строки и списки) и datetime\n",
    "test_data = test_data.select_dtypes(exclude=['object', 'datetime64'])\n",
    "\n",
    "display(test_data.info())"
   ]
  },
  {
   "cell_type": "code",
   "execution_count": 35,
   "metadata": {},
   "outputs": [
    {
     "data": {
      "text/plain": [
       "Reviews_best        1643\n",
       "Reviews_poor        1643\n",
       "Reviews_avg         1643\n",
       "Review Dates Var    1643\n",
       "Price Range         3475\n",
       "dtype: int64"
      ]
     },
     "metadata": {},
     "output_type": "display_data"
    }
   ],
   "source": [
    "# Смотрим какие колонки содержат пропуски, чтобы их дополнить нулями\n",
    "\n",
    "nan_columns = test_data.isna().sum().sort_values()\n",
    "\n",
    "display(nan_columns[nan_columns > 0])\n",
    "\n",
    "for col in list(nan_columns[nan_columns > 0].index):\n",
    "    test_data[col].fillna(0, inplace=True)"
   ]
  },
  {
   "cell_type": "markdown",
   "metadata": {},
   "source": [
    "### Разделение датафрейма"
   ]
  },
  {
   "cell_type": "code",
   "execution_count": 36,
   "metadata": {},
   "outputs": [],
   "source": [
    "# Загружаем специальный инструмент для разбивки:  \n",
    "from sklearn.model_selection import train_test_split  \n",
    "  \n",
    "# Разбиваем датафрейм на части, необходимые для обучения и тестирования модели  \n",
    "# Х - данные с информацией о ресторанах, у - целевая переменная (рейтинги ресторанов)  \n",
    "X = train_data.drop(['Rating'], axis = 1)\n",
    "y = train_data['Rating']  \n",
    "  \n",
    "# Наборы данных с меткой \"train\" будут использоваться для обучения модели, \"test\" - для тестирования.  \n",
    "# Для тестирования мы будем использовать 25% от исходного датасета.  \n",
    "X_train, X_test, y_train, y_test = train_test_split(X, y, test_size=0.25, random_state=RANDOM_SEED)"
   ]
  },
  {
   "cell_type": "code",
   "execution_count": 37,
   "metadata": {},
   "outputs": [
    {
     "data": {
      "text/plain": [
       "((10000, 166), (39963, 167), (39963, 166), (29972, 166), (9991, 166))"
      ]
     },
     "execution_count": 37,
     "metadata": {},
     "output_type": "execute_result"
    }
   ],
   "source": [
    "# проверяем размерность\n",
    "\n",
    "test_data.shape, train_data.shape, X.shape, X_train.shape, X_test.shape"
   ]
  },
  {
   "cell_type": "markdown",
   "metadata": {},
   "source": [
    "### Создание, обучение и тестирование модели"
   ]
  },
  {
   "cell_type": "code",
   "execution_count": 38,
   "metadata": {},
   "outputs": [],
   "source": [
    "# Импортируем необходимые библиотеки\n",
    "from sklearn.ensemble import RandomForestRegressor # инструмент для создания и обучения модели  \n",
    "from sklearn import metrics # инструменты для оценки точности модели  \n",
    "\n",
    "\n",
    "# Создаём модель\n",
    "regr = RandomForestRegressor(n_estimators=100, random_state=RANDOM_SEED)\n",
    "\n",
    "\n",
    "# Обучаем модель на тестовом наборе данных  \n",
    "regr.fit(X_train, y_train)\n",
    "\n",
    "\n",
    "# Используем обученную модель для предсказания рейтинга ресторанов в тестовой выборке.  \n",
    "# Предсказанные значения записываем в переменную y_pred  \n",
    "y_pred = regr.predict(X_test)"
   ]
  },
  {
   "cell_type": "code",
   "execution_count": 39,
   "metadata": {},
   "outputs": [],
   "source": [
    "# Т.к. рейтинги кратны 0.5 округляем все y_pred до ближайшего 0.5 значения\n",
    "\n",
    "def round_of_rating(number):\n",
    "    return round(number * 2) / 2\n",
    "\n",
    "\n",
    "def round_results(y_pred):\n",
    "    y_pred_rounded = []\n",
    "\n",
    "    for y in y_pred:\n",
    "        y_pred_rounded.append(round_of_rating(y))\n",
    "    \n",
    "    return np.array(y_pred_rounded)\n",
    "\n",
    "\n",
    "# Перезаписываем в y_pred округлённые значения\n",
    "y_pred = round_results(y_pred)"
   ]
  },
  {
   "cell_type": "code",
   "execution_count": 40,
   "metadata": {
    "scrolled": true
   },
   "outputs": [
    {
     "name": "stdout",
     "output_type": "stream",
     "text": [
      "MAE: 0.181\n"
     ]
    }
   ],
   "source": [
    "# Сравниваем предсказанные значения (y_pred) с реальными (y_test), и смотрим насколько они в среднем отличаются  \n",
    "# Метрика называется Mean Absolute Error (MAE) и показывает среднее отклонение предсказанных значений от фактических.  \n",
    "\n",
    "print('MAE:', round(metrics.mean_absolute_error(y_test, y_pred), 3))"
   ]
  },
  {
   "cell_type": "code",
   "execution_count": 41,
   "metadata": {},
   "outputs": [
    {
     "data": {
      "text/plain": [
       "<matplotlib.axes._subplots.AxesSubplot at 0x7f2880a967c0>"
      ]
     },
     "execution_count": 41,
     "metadata": {},
     "output_type": "execute_result"
    },
    {
     "data": {
      "image/png": "[encoded data removed]",
      "text/plain": [
       "<Figure size 720x720 with 1 Axes>"
      ]
     },
     "metadata": {
      "needs_background": "light"
     },
     "output_type": "display_data"
    }
   ],
   "source": [
    "# Выводим самые важные признаки для модели\n",
    "\n",
    "plt.rcParams['figure.figsize'] = (10,10)\n",
    "feat_importances = pd.Series(regr.feature_importances_, index=X.columns)\n",
    "feat_importances.nlargest(15).plot(kind='barh')"
   ]
  },
  {
   "cell_type": "markdown",
   "metadata": {},
   "source": [
    "---"
   ]
  },
  {
   "cell_type": "markdown",
   "metadata": {},
   "source": [
    "### Отправка результата"
   ]
  },
  {
   "cell_type": "code",
   "execution_count": 42,
   "metadata": {},
   "outputs": [
    {
     "data": {
      "text/html": [
       "<div>\n",
       "<style scoped>\n",
       "    .dataframe tbody tr th:only-of-type {\n",
       "        vertical-align: middle;\n",
       "    }\n",
       "\n",
       "    .dataframe tbody tr th {\n",
       "        vertical-align: top;\n",
       "    }\n",
       "\n",
       "    .dataframe thead th {\n",
       "        text-align: right;\n",
       "    }\n",
       "</style>\n",
       "<table border=\"1\" class=\"dataframe\">\n",
       "  <thead>\n",
       "    <tr style=\"text-align: right;\">\n",
       "      <th></th>\n",
       "      <th>Price Range</th>\n",
       "      <th>Number of Reviews</th>\n",
       "      <th>Cuisine Style_len</th>\n",
       "      <th>Afghani</th>\n",
       "      <th>African</th>\n",
       "      <th>Albanian</th>\n",
       "      <th>American</th>\n",
       "      <th>Arabic</th>\n",
       "      <th>Argentinean</th>\n",
       "      <th>Armenian</th>\n",
       "      <th>...</th>\n",
       "      <th>Stockholm</th>\n",
       "      <th>Vienna</th>\n",
       "      <th>Warsaw</th>\n",
       "      <th>Zurich</th>\n",
       "      <th>Ranking_norm</th>\n",
       "      <th>Number of Reviews isNAN</th>\n",
       "      <th>Review Dates Var</th>\n",
       "      <th>Reviews_best</th>\n",
       "      <th>Reviews_avg</th>\n",
       "      <th>Reviews_poor</th>\n",
       "    </tr>\n",
       "  </thead>\n",
       "  <tbody>\n",
       "    <tr>\n",
       "      <th>7017</th>\n",
       "      <td>1.00</td>\n",
       "      <td>109.00</td>\n",
       "      <td>3</td>\n",
       "      <td>0</td>\n",
       "      <td>0</td>\n",
       "      <td>0</td>\n",
       "      <td>0</td>\n",
       "      <td>0</td>\n",
       "      <td>0</td>\n",
       "      <td>0</td>\n",
       "      <td>...</td>\n",
       "      <td>0</td>\n",
       "      <td>0</td>\n",
       "      <td>0</td>\n",
       "      <td>0</td>\n",
       "      <td>0.52</td>\n",
       "      <td>0</td>\n",
       "      <td>99.00</td>\n",
       "      <td>0.00</td>\n",
       "      <td>0.00</td>\n",
       "      <td>0.00</td>\n",
       "    </tr>\n",
       "    <tr>\n",
       "      <th>716</th>\n",
       "      <td>0.00</td>\n",
       "      <td>4.00</td>\n",
       "      <td>1</td>\n",
       "      <td>0</td>\n",
       "      <td>0</td>\n",
       "      <td>0</td>\n",
       "      <td>0</td>\n",
       "      <td>0</td>\n",
       "      <td>0</td>\n",
       "      <td>0</td>\n",
       "      <td>...</td>\n",
       "      <td>0</td>\n",
       "      <td>0</td>\n",
       "      <td>0</td>\n",
       "      <td>0</td>\n",
       "      <td>0.84</td>\n",
       "      <td>0</td>\n",
       "      <td>295.00</td>\n",
       "      <td>0.00</td>\n",
       "      <td>0.00</td>\n",
       "      <td>0.00</td>\n",
       "    </tr>\n",
       "    <tr>\n",
       "      <th>9897</th>\n",
       "      <td>2.00</td>\n",
       "      <td>62.00</td>\n",
       "      <td>1</td>\n",
       "      <td>0</td>\n",
       "      <td>0</td>\n",
       "      <td>0</td>\n",
       "      <td>0</td>\n",
       "      <td>0</td>\n",
       "      <td>0</td>\n",
       "      <td>0</td>\n",
       "      <td>...</td>\n",
       "      <td>0</td>\n",
       "      <td>0</td>\n",
       "      <td>0</td>\n",
       "      <td>0</td>\n",
       "      <td>0.90</td>\n",
       "      <td>0</td>\n",
       "      <td>0.00</td>\n",
       "      <td>0.00</td>\n",
       "      <td>0.00</td>\n",
       "      <td>0.00</td>\n",
       "    </tr>\n",
       "    <tr>\n",
       "      <th>9503</th>\n",
       "      <td>1.00</td>\n",
       "      <td>18.00</td>\n",
       "      <td>1</td>\n",
       "      <td>0</td>\n",
       "      <td>0</td>\n",
       "      <td>0</td>\n",
       "      <td>0</td>\n",
       "      <td>0</td>\n",
       "      <td>0</td>\n",
       "      <td>0</td>\n",
       "      <td>...</td>\n",
       "      <td>0</td>\n",
       "      <td>0</td>\n",
       "      <td>0</td>\n",
       "      <td>0</td>\n",
       "      <td>0.52</td>\n",
       "      <td>0</td>\n",
       "      <td>0.00</td>\n",
       "      <td>0.00</td>\n",
       "      <td>0.00</td>\n",
       "      <td>0.00</td>\n",
       "    </tr>\n",
       "    <tr>\n",
       "      <th>2524</th>\n",
       "      <td>1.00</td>\n",
       "      <td>16.00</td>\n",
       "      <td>3</td>\n",
       "      <td>0</td>\n",
       "      <td>0</td>\n",
       "      <td>0</td>\n",
       "      <td>0</td>\n",
       "      <td>0</td>\n",
       "      <td>0</td>\n",
       "      <td>0</td>\n",
       "      <td>...</td>\n",
       "      <td>0</td>\n",
       "      <td>0</td>\n",
       "      <td>0</td>\n",
       "      <td>0</td>\n",
       "      <td>0.23</td>\n",
       "      <td>0</td>\n",
       "      <td>28.00</td>\n",
       "      <td>0.00</td>\n",
       "      <td>0.00</td>\n",
       "      <td>0.00</td>\n",
       "    </tr>\n",
       "  </tbody>\n",
       "</table>\n",
       "<p>5 rows × 166 columns</p>\n",
       "</div>"
      ],
      "text/plain": [
       "      Price Range  Number of Reviews  Cuisine Style_len  Afghani  African  \\\n",
       "7017         1.00             109.00                  3        0        0   \n",
       "716          0.00               4.00                  1        0        0   \n",
       "9897         2.00              62.00                  1        0        0   \n",
       "9503         1.00              18.00                  1        0        0   \n",
       "2524         1.00              16.00                  3        0        0   \n",
       "\n",
       "      Albanian  American  Arabic  Argentinean  Armenian  ...  Stockholm  \\\n",
       "7017         0         0       0            0         0  ...          0   \n",
       "716          0         0       0            0         0  ...          0   \n",
       "9897         0         0       0            0         0  ...          0   \n",
       "9503         0         0       0            0         0  ...          0   \n",
       "2524         0         0       0            0         0  ...          0   \n",
       "\n",
       "      Vienna  Warsaw  Zurich  Ranking_norm  Number of Reviews isNAN  \\\n",
       "7017       0       0       0          0.52                        0   \n",
       "716        0       0       0          0.84                        0   \n",
       "9897       0       0       0          0.90                        0   \n",
       "9503       0       0       0          0.52                        0   \n",
       "2524       0       0       0          0.23                        0   \n",
       "\n",
       "      Review Dates Var  Reviews_best  Reviews_avg  Reviews_poor  \n",
       "7017             99.00          0.00         0.00          0.00  \n",
       "716             295.00          0.00         0.00          0.00  \n",
       "9897              0.00          0.00         0.00          0.00  \n",
       "9503              0.00          0.00         0.00          0.00  \n",
       "2524             28.00          0.00         0.00          0.00  \n",
       "\n",
       "[5 rows x 166 columns]"
      ]
     },
     "execution_count": 42,
     "metadata": {},
     "output_type": "execute_result"
    }
   ],
   "source": [
    "test_data.sample(5)"
   ]
  },
  {
   "cell_type": "code",
   "execution_count": 43,
   "metadata": {},
   "outputs": [],
   "source": [
    "predict_submission = regr.predict(test_data)\n",
    "\n",
    "# Перезаписываем в y_pred округлённые значения\n",
    "predict_submission = round_results(predict_submission)"
   ]
  },
  {
   "cell_type": "code",
   "execution_count": 44,
   "metadata": {},
   "outputs": [
    {
     "data": {
      "text/plain": [
       "array([3. , 4.5, 4.5, ..., 3. , 4. , 4. ])"
      ]
     },
     "execution_count": 44,
     "metadata": {},
     "output_type": "execute_result"
    }
   ],
   "source": [
    "predict_submission"
   ]
  },
  {
   "cell_type": "code",
   "execution_count": 45,
   "metadata": {},
   "outputs": [
    {
     "data": {
      "text/html": [
       "<div>\n",
       "<style scoped>\n",
       "    .dataframe tbody tr th:only-of-type {\n",
       "        vertical-align: middle;\n",
       "    }\n",
       "\n",
       "    .dataframe tbody tr th {\n",
       "        vertical-align: top;\n",
       "    }\n",
       "\n",
       "    .dataframe thead th {\n",
       "        text-align: right;\n",
       "    }\n",
       "</style>\n",
       "<table border=\"1\" class=\"dataframe\">\n",
       "  <thead>\n",
       "    <tr style=\"text-align: right;\">\n",
       "      <th></th>\n",
       "      <th>Restaurant_id</th>\n",
       "      <th>Rating</th>\n",
       "    </tr>\n",
       "  </thead>\n",
       "  <tbody>\n",
       "    <tr>\n",
       "      <th>0</th>\n",
       "      <td>id_0</td>\n",
       "      <td>3.00</td>\n",
       "    </tr>\n",
       "    <tr>\n",
       "      <th>1</th>\n",
       "      <td>id_1</td>\n",
       "      <td>4.50</td>\n",
       "    </tr>\n",
       "    <tr>\n",
       "      <th>2</th>\n",
       "      <td>id_2</td>\n",
       "      <td>4.50</td>\n",
       "    </tr>\n",
       "    <tr>\n",
       "      <th>3</th>\n",
       "      <td>id_3</td>\n",
       "      <td>4.50</td>\n",
       "    </tr>\n",
       "    <tr>\n",
       "      <th>4</th>\n",
       "      <td>id_4</td>\n",
       "      <td>4.50</td>\n",
       "    </tr>\n",
       "    <tr>\n",
       "      <th>5</th>\n",
       "      <td>id_5</td>\n",
       "      <td>4.50</td>\n",
       "    </tr>\n",
       "    <tr>\n",
       "      <th>6</th>\n",
       "      <td>id_6</td>\n",
       "      <td>1.50</td>\n",
       "    </tr>\n",
       "    <tr>\n",
       "      <th>7</th>\n",
       "      <td>id_7</td>\n",
       "      <td>3.00</td>\n",
       "    </tr>\n",
       "    <tr>\n",
       "      <th>8</th>\n",
       "      <td>id_8</td>\n",
       "      <td>4.50</td>\n",
       "    </tr>\n",
       "    <tr>\n",
       "      <th>9</th>\n",
       "      <td>id_9</td>\n",
       "      <td>4.50</td>\n",
       "    </tr>\n",
       "  </tbody>\n",
       "</table>\n",
       "</div>"
      ],
      "text/plain": [
       "  Restaurant_id  Rating\n",
       "0          id_0    3.00\n",
       "1          id_1    4.50\n",
       "2          id_2    4.50\n",
       "3          id_3    4.50\n",
       "4          id_4    4.50\n",
       "5          id_5    4.50\n",
       "6          id_6    1.50\n",
       "7          id_7    3.00\n",
       "8          id_8    4.50\n",
       "9          id_9    4.50"
      ]
     },
     "execution_count": 45,
     "metadata": {},
     "output_type": "execute_result"
    }
   ],
   "source": [
    "sample_submission = pd.DataFrame({'Restaurant_id': test_ids\n",
    "                                 ,'Rating': predict_submission}\n",
    ")\n",
    "\n",
    "sample_submission.to_csv('submission.csv', index=False)\n",
    "sample_submission.head(10)"
   ]
  }
 ],
 "metadata": {
  "kernelspec": {
   "display_name": "Python 3",
   "language": "python",
   "name": "python3"
  },
  "language_info": {
   "codemirror_mode": {
    "name": "ipython",
    "version": 3
   },
   "file_extension": ".py",
   "mimetype": "text/x-python",
   "name": "python",
   "nbconvert_exporter": "python",
   "pygments_lexer": "ipython3",
   "version": "3.8.1"
  }
 },
 "nbformat": 4,
 "nbformat_minor": 4
}
